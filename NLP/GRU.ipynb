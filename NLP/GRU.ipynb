{
  "nbformat": 4,
  "nbformat_minor": 0,
  "metadata": {
    "colab": {
      "provenance": [],
      "authorship_tag": "ABX9TyNft/p0eapv1dhcOV8FS6ab"
    },
    "kernelspec": {
      "name": "python3",
      "display_name": "Python 3"
    },
    "language_info": {
      "name": "python"
    }
  },
  "cells": [
    {
      "cell_type": "code",
      "execution_count": 1,
      "metadata": {
        "id": "Cjht3JgT-LrL"
      },
      "outputs": [],
      "source": [
        "text =\"\"\"Data analysis is not just a mere process; it's a tool that empowers organizations to make informed decisions, predict trends, and improve operational efficiency.\n",
        "It's the backbone of strategic planning in businesses, governments, and other organizations.Consider some examples. Take, for instance, a leading e-commerce company.\n",
        "Through data analysis, the company can understand their customers' buying behavior, preferences, and patterns.\n",
        "They can then use this information to personalize customer experiences, forecast sales, and optimize marketing strategies, ultimately driving business growth and customer satisfaction.\n",
        "Another good example is the healthcare industry.\n",
        "Through data analysis, healthcare providers can predict disease outbreaks, improve patient care, and make informed decisions about treatment strategies. \"\"\""
      ]
    },
    {
      "cell_type": "code",
      "source": [
        "import tensorflow as tf\n",
        "from tensorflow.keras.preprocessing.text import Tokenizer"
      ],
      "metadata": {
        "id": "N5aXjl4v-PVa"
      },
      "execution_count": 2,
      "outputs": []
    },
    {
      "cell_type": "code",
      "source": [
        "# Initiate the Tokenizer\n",
        "tokenizer = Tokenizer()"
      ],
      "metadata": {
        "id": "qQe3IH08-VcQ"
      },
      "execution_count": 3,
      "outputs": []
    },
    {
      "cell_type": "code",
      "source": [
        "tokenizer.fit_on_texts([text])"
      ],
      "metadata": {
        "id": "O50AlLW_-iFa"
      },
      "execution_count": 4,
      "outputs": []
    },
    {
      "cell_type": "code",
      "source": [
        "len(tokenizer.word_index)"
      ],
      "metadata": {
        "colab": {
          "base_uri": "https://localhost:8080/"
        },
        "id": "bawc9K6e-mSB",
        "outputId": "8ee8ad77-a81c-4784-d53f-5cd206605b3f"
      },
      "execution_count": 5,
      "outputs": [
        {
          "output_type": "execute_result",
          "data": {
            "text/plain": [
              "81"
            ]
          },
          "metadata": {},
          "execution_count": 5
        }
      ]
    },
    {
      "cell_type": "code",
      "source": [
        "for sentence in text.split('\\n'):\n",
        "    print(sentence)"
      ],
      "metadata": {
        "colab": {
          "base_uri": "https://localhost:8080/"
        },
        "id": "LT4hTMRr-ohy",
        "outputId": "9096a101-95fc-4afa-cca1-73bed57b3181"
      },
      "execution_count": 6,
      "outputs": [
        {
          "output_type": "stream",
          "name": "stdout",
          "text": [
            "Data analysis is not just a mere process; it's a tool that empowers organizations to make informed decisions, predict trends, and improve operational efficiency.\n",
            "It's the backbone of strategic planning in businesses, governments, and other organizations.Consider some examples. Take, for instance, a leading e-commerce company. \n",
            "Through data analysis, the company can understand their customers' buying behavior, preferences, and patterns. \n",
            "They can then use this information to personalize customer experiences, forecast sales, and optimize marketing strategies, ultimately driving business growth and customer satisfaction.\n",
            "Another good example is the healthcare industry. \n",
            "Through data analysis, healthcare providers can predict disease outbreaks, improve patient care, and make informed decisions about treatment strategies. \n"
          ]
        }
      ]
    },
    {
      "cell_type": "code",
      "source": [
        "for sentence in text.split('\\n'):\n",
        "  print(tokenizer.texts_to_sequences([sentence]))"
      ],
      "metadata": {
        "colab": {
          "base_uri": "https://localhost:8080/"
        },
        "id": "iIaSjF5p-uaP",
        "outputId": "2bf05aee-db75-480c-ae6a-18920a79a00b"
      },
      "execution_count": 7,
      "outputs": [
        {
          "output_type": "stream",
          "name": "stdout",
          "text": [
            "[[2, 3, 7, 21, 22, 4, 23, 24, 8, 4, 25, 26, 27, 9, 10, 11, 12, 13, 14, 28, 1, 15, 29, 30]]\n",
            "[[8, 5, 31, 32, 33, 34, 35, 36, 37, 1, 38, 9, 39, 40, 41, 42, 43, 44, 4, 45, 46, 47, 16]]\n",
            "[[17, 2, 3, 5, 16, 6, 48, 49, 50, 51, 52, 53, 1, 54]]\n",
            "[[55, 6, 56, 57, 58, 59, 10, 60, 18, 61, 62, 63, 1, 64, 65, 19, 66, 67, 68, 69, 1, 18, 70]]\n",
            "[[71, 72, 73, 7, 5, 20, 74]]\n",
            "[[17, 2, 3, 20, 75, 6, 14, 76, 77, 15, 78, 79, 1, 11, 12, 13, 80, 81, 19]]\n"
          ]
        }
      ]
    },
    {
      "cell_type": "code",
      "source": [
        "input_squences=[]\n",
        "\n",
        "for sentence in text.split('\\n'):\n",
        "  tokenized_sentence = tokenizer.texts_to_sequences([sentence])[0]\n",
        "\n",
        "  for i in range(1, len(tokenized_sentence)):\n",
        "      input_squences.append(tokenized_sentence[:i+1])"
      ],
      "metadata": {
        "id": "nNvu-4cO_Gn8"
      },
      "execution_count": 8,
      "outputs": []
    },
    {
      "cell_type": "code",
      "source": [
        "input_squences"
      ],
      "metadata": {
        "colab": {
          "base_uri": "https://localhost:8080/"
        },
        "id": "bgj8bd2p_Qx9",
        "outputId": "7f7a4967-b968-410f-a97e-7eedcebe6792"
      },
      "execution_count": 9,
      "outputs": [
        {
          "output_type": "execute_result",
          "data": {
            "text/plain": [
              "[[2, 3],\n",
              " [2, 3, 7],\n",
              " [2, 3, 7, 21],\n",
              " [2, 3, 7, 21, 22],\n",
              " [2, 3, 7, 21, 22, 4],\n",
              " [2, 3, 7, 21, 22, 4, 23],\n",
              " [2, 3, 7, 21, 22, 4, 23, 24],\n",
              " [2, 3, 7, 21, 22, 4, 23, 24, 8],\n",
              " [2, 3, 7, 21, 22, 4, 23, 24, 8, 4],\n",
              " [2, 3, 7, 21, 22, 4, 23, 24, 8, 4, 25],\n",
              " [2, 3, 7, 21, 22, 4, 23, 24, 8, 4, 25, 26],\n",
              " [2, 3, 7, 21, 22, 4, 23, 24, 8, 4, 25, 26, 27],\n",
              " [2, 3, 7, 21, 22, 4, 23, 24, 8, 4, 25, 26, 27, 9],\n",
              " [2, 3, 7, 21, 22, 4, 23, 24, 8, 4, 25, 26, 27, 9, 10],\n",
              " [2, 3, 7, 21, 22, 4, 23, 24, 8, 4, 25, 26, 27, 9, 10, 11],\n",
              " [2, 3, 7, 21, 22, 4, 23, 24, 8, 4, 25, 26, 27, 9, 10, 11, 12],\n",
              " [2, 3, 7, 21, 22, 4, 23, 24, 8, 4, 25, 26, 27, 9, 10, 11, 12, 13],\n",
              " [2, 3, 7, 21, 22, 4, 23, 24, 8, 4, 25, 26, 27, 9, 10, 11, 12, 13, 14],\n",
              " [2, 3, 7, 21, 22, 4, 23, 24, 8, 4, 25, 26, 27, 9, 10, 11, 12, 13, 14, 28],\n",
              " [2, 3, 7, 21, 22, 4, 23, 24, 8, 4, 25, 26, 27, 9, 10, 11, 12, 13, 14, 28, 1],\n",
              " [2,\n",
              "  3,\n",
              "  7,\n",
              "  21,\n",
              "  22,\n",
              "  4,\n",
              "  23,\n",
              "  24,\n",
              "  8,\n",
              "  4,\n",
              "  25,\n",
              "  26,\n",
              "  27,\n",
              "  9,\n",
              "  10,\n",
              "  11,\n",
              "  12,\n",
              "  13,\n",
              "  14,\n",
              "  28,\n",
              "  1,\n",
              "  15],\n",
              " [2,\n",
              "  3,\n",
              "  7,\n",
              "  21,\n",
              "  22,\n",
              "  4,\n",
              "  23,\n",
              "  24,\n",
              "  8,\n",
              "  4,\n",
              "  25,\n",
              "  26,\n",
              "  27,\n",
              "  9,\n",
              "  10,\n",
              "  11,\n",
              "  12,\n",
              "  13,\n",
              "  14,\n",
              "  28,\n",
              "  1,\n",
              "  15,\n",
              "  29],\n",
              " [2,\n",
              "  3,\n",
              "  7,\n",
              "  21,\n",
              "  22,\n",
              "  4,\n",
              "  23,\n",
              "  24,\n",
              "  8,\n",
              "  4,\n",
              "  25,\n",
              "  26,\n",
              "  27,\n",
              "  9,\n",
              "  10,\n",
              "  11,\n",
              "  12,\n",
              "  13,\n",
              "  14,\n",
              "  28,\n",
              "  1,\n",
              "  15,\n",
              "  29,\n",
              "  30],\n",
              " [8, 5],\n",
              " [8, 5, 31],\n",
              " [8, 5, 31, 32],\n",
              " [8, 5, 31, 32, 33],\n",
              " [8, 5, 31, 32, 33, 34],\n",
              " [8, 5, 31, 32, 33, 34, 35],\n",
              " [8, 5, 31, 32, 33, 34, 35, 36],\n",
              " [8, 5, 31, 32, 33, 34, 35, 36, 37],\n",
              " [8, 5, 31, 32, 33, 34, 35, 36, 37, 1],\n",
              " [8, 5, 31, 32, 33, 34, 35, 36, 37, 1, 38],\n",
              " [8, 5, 31, 32, 33, 34, 35, 36, 37, 1, 38, 9],\n",
              " [8, 5, 31, 32, 33, 34, 35, 36, 37, 1, 38, 9, 39],\n",
              " [8, 5, 31, 32, 33, 34, 35, 36, 37, 1, 38, 9, 39, 40],\n",
              " [8, 5, 31, 32, 33, 34, 35, 36, 37, 1, 38, 9, 39, 40, 41],\n",
              " [8, 5, 31, 32, 33, 34, 35, 36, 37, 1, 38, 9, 39, 40, 41, 42],\n",
              " [8, 5, 31, 32, 33, 34, 35, 36, 37, 1, 38, 9, 39, 40, 41, 42, 43],\n",
              " [8, 5, 31, 32, 33, 34, 35, 36, 37, 1, 38, 9, 39, 40, 41, 42, 43, 44],\n",
              " [8, 5, 31, 32, 33, 34, 35, 36, 37, 1, 38, 9, 39, 40, 41, 42, 43, 44, 4],\n",
              " [8, 5, 31, 32, 33, 34, 35, 36, 37, 1, 38, 9, 39, 40, 41, 42, 43, 44, 4, 45],\n",
              " [8,\n",
              "  5,\n",
              "  31,\n",
              "  32,\n",
              "  33,\n",
              "  34,\n",
              "  35,\n",
              "  36,\n",
              "  37,\n",
              "  1,\n",
              "  38,\n",
              "  9,\n",
              "  39,\n",
              "  40,\n",
              "  41,\n",
              "  42,\n",
              "  43,\n",
              "  44,\n",
              "  4,\n",
              "  45,\n",
              "  46],\n",
              " [8,\n",
              "  5,\n",
              "  31,\n",
              "  32,\n",
              "  33,\n",
              "  34,\n",
              "  35,\n",
              "  36,\n",
              "  37,\n",
              "  1,\n",
              "  38,\n",
              "  9,\n",
              "  39,\n",
              "  40,\n",
              "  41,\n",
              "  42,\n",
              "  43,\n",
              "  44,\n",
              "  4,\n",
              "  45,\n",
              "  46,\n",
              "  47],\n",
              " [8,\n",
              "  5,\n",
              "  31,\n",
              "  32,\n",
              "  33,\n",
              "  34,\n",
              "  35,\n",
              "  36,\n",
              "  37,\n",
              "  1,\n",
              "  38,\n",
              "  9,\n",
              "  39,\n",
              "  40,\n",
              "  41,\n",
              "  42,\n",
              "  43,\n",
              "  44,\n",
              "  4,\n",
              "  45,\n",
              "  46,\n",
              "  47,\n",
              "  16],\n",
              " [17, 2],\n",
              " [17, 2, 3],\n",
              " [17, 2, 3, 5],\n",
              " [17, 2, 3, 5, 16],\n",
              " [17, 2, 3, 5, 16, 6],\n",
              " [17, 2, 3, 5, 16, 6, 48],\n",
              " [17, 2, 3, 5, 16, 6, 48, 49],\n",
              " [17, 2, 3, 5, 16, 6, 48, 49, 50],\n",
              " [17, 2, 3, 5, 16, 6, 48, 49, 50, 51],\n",
              " [17, 2, 3, 5, 16, 6, 48, 49, 50, 51, 52],\n",
              " [17, 2, 3, 5, 16, 6, 48, 49, 50, 51, 52, 53],\n",
              " [17, 2, 3, 5, 16, 6, 48, 49, 50, 51, 52, 53, 1],\n",
              " [17, 2, 3, 5, 16, 6, 48, 49, 50, 51, 52, 53, 1, 54],\n",
              " [55, 6],\n",
              " [55, 6, 56],\n",
              " [55, 6, 56, 57],\n",
              " [55, 6, 56, 57, 58],\n",
              " [55, 6, 56, 57, 58, 59],\n",
              " [55, 6, 56, 57, 58, 59, 10],\n",
              " [55, 6, 56, 57, 58, 59, 10, 60],\n",
              " [55, 6, 56, 57, 58, 59, 10, 60, 18],\n",
              " [55, 6, 56, 57, 58, 59, 10, 60, 18, 61],\n",
              " [55, 6, 56, 57, 58, 59, 10, 60, 18, 61, 62],\n",
              " [55, 6, 56, 57, 58, 59, 10, 60, 18, 61, 62, 63],\n",
              " [55, 6, 56, 57, 58, 59, 10, 60, 18, 61, 62, 63, 1],\n",
              " [55, 6, 56, 57, 58, 59, 10, 60, 18, 61, 62, 63, 1, 64],\n",
              " [55, 6, 56, 57, 58, 59, 10, 60, 18, 61, 62, 63, 1, 64, 65],\n",
              " [55, 6, 56, 57, 58, 59, 10, 60, 18, 61, 62, 63, 1, 64, 65, 19],\n",
              " [55, 6, 56, 57, 58, 59, 10, 60, 18, 61, 62, 63, 1, 64, 65, 19, 66],\n",
              " [55, 6, 56, 57, 58, 59, 10, 60, 18, 61, 62, 63, 1, 64, 65, 19, 66, 67],\n",
              " [55, 6, 56, 57, 58, 59, 10, 60, 18, 61, 62, 63, 1, 64, 65, 19, 66, 67, 68],\n",
              " [55,\n",
              "  6,\n",
              "  56,\n",
              "  57,\n",
              "  58,\n",
              "  59,\n",
              "  10,\n",
              "  60,\n",
              "  18,\n",
              "  61,\n",
              "  62,\n",
              "  63,\n",
              "  1,\n",
              "  64,\n",
              "  65,\n",
              "  19,\n",
              "  66,\n",
              "  67,\n",
              "  68,\n",
              "  69],\n",
              " [55,\n",
              "  6,\n",
              "  56,\n",
              "  57,\n",
              "  58,\n",
              "  59,\n",
              "  10,\n",
              "  60,\n",
              "  18,\n",
              "  61,\n",
              "  62,\n",
              "  63,\n",
              "  1,\n",
              "  64,\n",
              "  65,\n",
              "  19,\n",
              "  66,\n",
              "  67,\n",
              "  68,\n",
              "  69,\n",
              "  1],\n",
              " [55,\n",
              "  6,\n",
              "  56,\n",
              "  57,\n",
              "  58,\n",
              "  59,\n",
              "  10,\n",
              "  60,\n",
              "  18,\n",
              "  61,\n",
              "  62,\n",
              "  63,\n",
              "  1,\n",
              "  64,\n",
              "  65,\n",
              "  19,\n",
              "  66,\n",
              "  67,\n",
              "  68,\n",
              "  69,\n",
              "  1,\n",
              "  18],\n",
              " [55,\n",
              "  6,\n",
              "  56,\n",
              "  57,\n",
              "  58,\n",
              "  59,\n",
              "  10,\n",
              "  60,\n",
              "  18,\n",
              "  61,\n",
              "  62,\n",
              "  63,\n",
              "  1,\n",
              "  64,\n",
              "  65,\n",
              "  19,\n",
              "  66,\n",
              "  67,\n",
              "  68,\n",
              "  69,\n",
              "  1,\n",
              "  18,\n",
              "  70],\n",
              " [71, 72],\n",
              " [71, 72, 73],\n",
              " [71, 72, 73, 7],\n",
              " [71, 72, 73, 7, 5],\n",
              " [71, 72, 73, 7, 5, 20],\n",
              " [71, 72, 73, 7, 5, 20, 74],\n",
              " [17, 2],\n",
              " [17, 2, 3],\n",
              " [17, 2, 3, 20],\n",
              " [17, 2, 3, 20, 75],\n",
              " [17, 2, 3, 20, 75, 6],\n",
              " [17, 2, 3, 20, 75, 6, 14],\n",
              " [17, 2, 3, 20, 75, 6, 14, 76],\n",
              " [17, 2, 3, 20, 75, 6, 14, 76, 77],\n",
              " [17, 2, 3, 20, 75, 6, 14, 76, 77, 15],\n",
              " [17, 2, 3, 20, 75, 6, 14, 76, 77, 15, 78],\n",
              " [17, 2, 3, 20, 75, 6, 14, 76, 77, 15, 78, 79],\n",
              " [17, 2, 3, 20, 75, 6, 14, 76, 77, 15, 78, 79, 1],\n",
              " [17, 2, 3, 20, 75, 6, 14, 76, 77, 15, 78, 79, 1, 11],\n",
              " [17, 2, 3, 20, 75, 6, 14, 76, 77, 15, 78, 79, 1, 11, 12],\n",
              " [17, 2, 3, 20, 75, 6, 14, 76, 77, 15, 78, 79, 1, 11, 12, 13],\n",
              " [17, 2, 3, 20, 75, 6, 14, 76, 77, 15, 78, 79, 1, 11, 12, 13, 80],\n",
              " [17, 2, 3, 20, 75, 6, 14, 76, 77, 15, 78, 79, 1, 11, 12, 13, 80, 81],\n",
              " [17, 2, 3, 20, 75, 6, 14, 76, 77, 15, 78, 79, 1, 11, 12, 13, 80, 81, 19]]"
            ]
          },
          "metadata": {},
          "execution_count": 9
        }
      ]
    },
    {
      "cell_type": "code",
      "source": [
        "max_len = max([len(x) for x in input_squences])"
      ],
      "metadata": {
        "id": "ZaXPyu2l_Svo"
      },
      "execution_count": 10,
      "outputs": []
    },
    {
      "cell_type": "code",
      "source": [
        "max_len"
      ],
      "metadata": {
        "colab": {
          "base_uri": "https://localhost:8080/"
        },
        "id": "20Yl5Pip_2Tl",
        "outputId": "20684265-59ed-4cee-bf0d-0397d32fa221"
      },
      "execution_count": 11,
      "outputs": [
        {
          "output_type": "execute_result",
          "data": {
            "text/plain": [
              "24"
            ]
          },
          "metadata": {},
          "execution_count": 11
        }
      ]
    },
    {
      "cell_type": "code",
      "source": [
        "from tensorflow.keras.preprocessing.sequence import pad_sequences\n",
        "padded_input_sequences = pad_sequences(input_squences, maxlen=max_len, padding='pre')"
      ],
      "metadata": {
        "id": "-AVFRWT7_4dz"
      },
      "execution_count": 12,
      "outputs": []
    },
    {
      "cell_type": "code",
      "source": [
        "padded_input_sequences"
      ],
      "metadata": {
        "colab": {
          "base_uri": "https://localhost:8080/"
        },
        "id": "59xu9f7xAKtU",
        "outputId": "37f8a49c-d5b5-43e2-ee56-6c0af2ea8115"
      },
      "execution_count": 13,
      "outputs": [
        {
          "output_type": "execute_result",
          "data": {
            "text/plain": [
              "array([[ 0,  0,  0, ...,  0,  2,  3],\n",
              "       [ 0,  0,  0, ...,  2,  3,  7],\n",
              "       [ 0,  0,  0, ...,  3,  7, 21],\n",
              "       ...,\n",
              "       [ 0,  0,  0, ..., 12, 13, 80],\n",
              "       [ 0,  0,  0, ..., 13, 80, 81],\n",
              "       [ 0,  0,  0, ..., 80, 81, 19]], dtype=int32)"
            ]
          },
          "metadata": {},
          "execution_count": 13
        }
      ]
    },
    {
      "cell_type": "code",
      "source": [
        "X = padded_input_sequences[:,:-1]\n",
        "y = padded_input_sequences[:,-1]"
      ],
      "metadata": {
        "id": "MqEEgsFvAL35"
      },
      "execution_count": 14,
      "outputs": []
    },
    {
      "cell_type": "code",
      "source": [
        "tokenizer.word_index"
      ],
      "metadata": {
        "colab": {
          "base_uri": "https://localhost:8080/"
        },
        "id": "x6rbFlpsAQ5h",
        "outputId": "7a76706c-870b-4524-b7e0-90a1731169d4"
      },
      "execution_count": 15,
      "outputs": [
        {
          "output_type": "execute_result",
          "data": {
            "text/plain": [
              "{'and': 1,\n",
              " 'data': 2,\n",
              " 'analysis': 3,\n",
              " 'a': 4,\n",
              " 'the': 5,\n",
              " 'can': 6,\n",
              " 'is': 7,\n",
              " \"it's\": 8,\n",
              " 'organizations': 9,\n",
              " 'to': 10,\n",
              " 'make': 11,\n",
              " 'informed': 12,\n",
              " 'decisions': 13,\n",
              " 'predict': 14,\n",
              " 'improve': 15,\n",
              " 'company': 16,\n",
              " 'through': 17,\n",
              " 'customer': 18,\n",
              " 'strategies': 19,\n",
              " 'healthcare': 20,\n",
              " 'not': 21,\n",
              " 'just': 22,\n",
              " 'mere': 23,\n",
              " 'process': 24,\n",
              " 'tool': 25,\n",
              " 'that': 26,\n",
              " 'empowers': 27,\n",
              " 'trends': 28,\n",
              " 'operational': 29,\n",
              " 'efficiency': 30,\n",
              " 'backbone': 31,\n",
              " 'of': 32,\n",
              " 'strategic': 33,\n",
              " 'planning': 34,\n",
              " 'in': 35,\n",
              " 'businesses': 36,\n",
              " 'governments': 37,\n",
              " 'other': 38,\n",
              " 'consider': 39,\n",
              " 'some': 40,\n",
              " 'examples': 41,\n",
              " 'take': 42,\n",
              " 'for': 43,\n",
              " 'instance': 44,\n",
              " 'leading': 45,\n",
              " 'e': 46,\n",
              " 'commerce': 47,\n",
              " 'understand': 48,\n",
              " 'their': 49,\n",
              " \"customers'\": 50,\n",
              " 'buying': 51,\n",
              " 'behavior': 52,\n",
              " 'preferences': 53,\n",
              " 'patterns': 54,\n",
              " 'they': 55,\n",
              " 'then': 56,\n",
              " 'use': 57,\n",
              " 'this': 58,\n",
              " 'information': 59,\n",
              " 'personalize': 60,\n",
              " 'experiences': 61,\n",
              " 'forecast': 62,\n",
              " 'sales': 63,\n",
              " 'optimize': 64,\n",
              " 'marketing': 65,\n",
              " 'ultimately': 66,\n",
              " 'driving': 67,\n",
              " 'business': 68,\n",
              " 'growth': 69,\n",
              " 'satisfaction': 70,\n",
              " 'another': 71,\n",
              " 'good': 72,\n",
              " 'example': 73,\n",
              " 'industry': 74,\n",
              " 'providers': 75,\n",
              " 'disease': 76,\n",
              " 'outbreaks': 77,\n",
              " 'patient': 78,\n",
              " 'care': 79,\n",
              " 'about': 80,\n",
              " 'treatment': 81}"
            ]
          },
          "metadata": {},
          "execution_count": 15
        }
      ]
    },
    {
      "cell_type": "code",
      "source": [
        "from tensorflow.keras.utils import to_categorical\n",
        "y = to_categorical(y, num_classes=len(tokenizer.word_index)+1)"
      ],
      "metadata": {
        "id": "TIw8PUgoAXUR"
      },
      "execution_count": 16,
      "outputs": []
    },
    {
      "cell_type": "code",
      "source": [
        "y.shape"
      ],
      "metadata": {
        "colab": {
          "base_uri": "https://localhost:8080/"
        },
        "id": "aquDhVrPAifg",
        "outputId": "ef4de59b-0a06-446a-a17d-a9d45b90a683"
      },
      "execution_count": 17,
      "outputs": [
        {
          "output_type": "execute_result",
          "data": {
            "text/plain": [
              "(104, 82)"
            ]
          },
          "metadata": {},
          "execution_count": 17
        }
      ]
    },
    {
      "cell_type": "code",
      "source": [
        "X.shape"
      ],
      "metadata": {
        "colab": {
          "base_uri": "https://localhost:8080/"
        },
        "id": "cdsUPWCsAmEC",
        "outputId": "255cc3b9-a6cb-486b-b228-8c32a243befe"
      },
      "execution_count": 18,
      "outputs": [
        {
          "output_type": "execute_result",
          "data": {
            "text/plain": [
              "(104, 23)"
            ]
          },
          "metadata": {},
          "execution_count": 18
        }
      ]
    },
    {
      "cell_type": "markdown",
      "source": [
        "## Model Building"
      ],
      "metadata": {
        "id": "pe97i8G-At5J"
      }
    },
    {
      "cell_type": "code",
      "source": [
        "from tensorflow.keras.models import Sequential\n",
        "from tensorflow.keras.layers import Embedding, GRU, Dense"
      ],
      "metadata": {
        "id": "aFa9bb22AyJk"
      },
      "execution_count": 19,
      "outputs": []
    },
    {
      "cell_type": "code",
      "source": [
        "model = Sequential()\n",
        "model.add(Embedding(len(tokenizer.word_index)+1, 100, input_length=max_len-1))\n",
        "model.add(GRU(150))\n",
        "model.add(Dense(len(tokenizer.word_index)+1, activation='softmax'))\n",
        "\n",
        "model.compile(loss='categorical_crossentropy', optimizer='adam', metrics=['accuracy'])"
      ],
      "metadata": {
        "id": "agj5hVs8A1lT"
      },
      "execution_count": 22,
      "outputs": []
    },
    {
      "cell_type": "code",
      "source": [
        "from sklearn.model_selection import train_test_split\n",
        "\n",
        "X_train, X_test, y_train, y_test = train_test_split(\n",
        "    X, y,\n",
        "    test_size=0.2,\n",
        "    random_state=42\n",
        ")\n",
        "\n",
        "history = model.fit(X_train, y_train,\n",
        "                   epochs=100,\n",
        "                   validation_data=(X_test, y_test),\n",
        "                   verbose=1)"
      ],
      "metadata": {
        "colab": {
          "base_uri": "https://localhost:8080/"
        },
        "id": "6YkYj3MeBSWg",
        "outputId": "6fc0c2bc-b430-4b6c-849b-d910f10234b6"
      },
      "execution_count": 23,
      "outputs": [
        {
          "output_type": "stream",
          "name": "stdout",
          "text": [
            "Epoch 1/100\n",
            "\u001b[1m3/3\u001b[0m \u001b[32m━━━━━━━━━━━━━━━━━━━━\u001b[0m\u001b[37m\u001b[0m \u001b[1m5s\u001b[0m 314ms/step - accuracy: 0.0099 - loss: 4.4077 - val_accuracy: 0.0476 - val_loss: 4.4107\n",
            "Epoch 2/100\n",
            "\u001b[1m3/3\u001b[0m \u001b[32m━━━━━━━━━━━━━━━━━━━━\u001b[0m\u001b[37m\u001b[0m \u001b[1m0s\u001b[0m 85ms/step - accuracy: 0.1507 - loss: 4.3879 - val_accuracy: 0.0476 - val_loss: 4.4090\n",
            "Epoch 3/100\n",
            "\u001b[1m3/3\u001b[0m \u001b[32m━━━━━━━━━━━━━━━━━━━━\u001b[0m\u001b[37m\u001b[0m \u001b[1m0s\u001b[0m 71ms/step - accuracy: 0.4040 - loss: 4.3691 - val_accuracy: 0.0476 - val_loss: 4.4064\n",
            "Epoch 4/100\n",
            "\u001b[1m3/3\u001b[0m \u001b[32m━━━━━━━━━━━━━━━━━━━━\u001b[0m\u001b[37m\u001b[0m \u001b[1m0s\u001b[0m 88ms/step - accuracy: 0.4612 - loss: 4.3494 - val_accuracy: 0.0476 - val_loss: 4.4018\n",
            "Epoch 5/100\n",
            "\u001b[1m3/3\u001b[0m \u001b[32m━━━━━━━━━━━━━━━━━━━━\u001b[0m\u001b[37m\u001b[0m \u001b[1m0s\u001b[0m 86ms/step - accuracy: 0.4519 - loss: 4.3279 - val_accuracy: 0.0476 - val_loss: 4.3938\n",
            "Epoch 6/100\n",
            "\u001b[1m3/3\u001b[0m \u001b[32m━━━━━━━━━━━━━━━━━━━━\u001b[0m\u001b[37m\u001b[0m \u001b[1m0s\u001b[0m 97ms/step - accuracy: 0.4197 - loss: 4.2896 - val_accuracy: 0.0476 - val_loss: 4.3762\n",
            "Epoch 7/100\n",
            "\u001b[1m3/3\u001b[0m \u001b[32m━━━━━━━━━━━━━━━━━━━━\u001b[0m\u001b[37m\u001b[0m \u001b[1m0s\u001b[0m 71ms/step - accuracy: 0.3221 - loss: 4.2204 - val_accuracy: 0.0476 - val_loss: 4.3799\n",
            "Epoch 8/100\n",
            "\u001b[1m3/3\u001b[0m \u001b[32m━━━━━━━━━━━━━━━━━━━━\u001b[0m\u001b[37m\u001b[0m \u001b[1m0s\u001b[0m 69ms/step - accuracy: 0.1047 - loss: 4.1237 - val_accuracy: 0.0476 - val_loss: 4.6019\n",
            "Epoch 9/100\n",
            "\u001b[1m3/3\u001b[0m \u001b[32m━━━━━━━━━━━━━━━━━━━━\u001b[0m\u001b[37m\u001b[0m \u001b[1m0s\u001b[0m 70ms/step - accuracy: 0.1149 - loss: 4.1037 - val_accuracy: 0.0952 - val_loss: 4.4419\n",
            "Epoch 10/100\n",
            "\u001b[1m3/3\u001b[0m \u001b[32m━━━━━━━━━━━━━━━━━━━━\u001b[0m\u001b[37m\u001b[0m \u001b[1m0s\u001b[0m 67ms/step - accuracy: 0.2767 - loss: 3.9826 - val_accuracy: 0.0000e+00 - val_loss: 4.4428\n",
            "Epoch 11/100\n",
            "\u001b[1m3/3\u001b[0m \u001b[32m━━━━━━━━━━━━━━━━━━━━\u001b[0m\u001b[37m\u001b[0m \u001b[1m0s\u001b[0m 64ms/step - accuracy: 0.2242 - loss: 3.9290 - val_accuracy: 0.0000e+00 - val_loss: 4.5438\n",
            "Epoch 12/100\n",
            "\u001b[1m3/3\u001b[0m \u001b[32m━━━━━━━━━━━━━━━━━━━━\u001b[0m\u001b[37m\u001b[0m \u001b[1m0s\u001b[0m 67ms/step - accuracy: 0.2714 - loss: 3.8166 - val_accuracy: 0.0476 - val_loss: 4.7473\n",
            "Epoch 13/100\n",
            "\u001b[1m3/3\u001b[0m \u001b[32m━━━━━━━━━━━━━━━━━━━━\u001b[0m\u001b[37m\u001b[0m \u001b[1m0s\u001b[0m 72ms/step - accuracy: 0.2136 - loss: 3.7939 - val_accuracy: 0.0476 - val_loss: 4.8322\n",
            "Epoch 14/100\n",
            "\u001b[1m3/3\u001b[0m \u001b[32m━━━━━━━━━━━━━━━━━━━━\u001b[0m\u001b[37m\u001b[0m \u001b[1m0s\u001b[0m 88ms/step - accuracy: 0.1625 - loss: 3.6394 - val_accuracy: 0.0476 - val_loss: 4.8144\n",
            "Epoch 15/100\n",
            "\u001b[1m3/3\u001b[0m \u001b[32m━━━━━━━━━━━━━━━━━━━━\u001b[0m\u001b[37m\u001b[0m \u001b[1m0s\u001b[0m 83ms/step - accuracy: 0.1997 - loss: 3.5474 - val_accuracy: 0.0952 - val_loss: 5.1461\n",
            "Epoch 16/100\n",
            "\u001b[1m3/3\u001b[0m \u001b[32m━━━━━━━━━━━━━━━━━━━━\u001b[0m\u001b[37m\u001b[0m \u001b[1m0s\u001b[0m 67ms/step - accuracy: 0.1643 - loss: 3.4773 - val_accuracy: 0.0952 - val_loss: 5.3324\n",
            "Epoch 17/100\n",
            "\u001b[1m3/3\u001b[0m \u001b[32m━━━━━━━━━━━━━━━━━━━━\u001b[0m\u001b[37m\u001b[0m \u001b[1m0s\u001b[0m 85ms/step - accuracy: 0.1447 - loss: 3.3316 - val_accuracy: 0.0952 - val_loss: 5.3336\n",
            "Epoch 18/100\n",
            "\u001b[1m3/3\u001b[0m \u001b[32m━━━━━━━━━━━━━━━━━━━━\u001b[0m\u001b[37m\u001b[0m \u001b[1m0s\u001b[0m 68ms/step - accuracy: 0.2136 - loss: 3.2027 - val_accuracy: 0.0952 - val_loss: 5.6160\n",
            "Epoch 19/100\n",
            "\u001b[1m3/3\u001b[0m \u001b[32m━━━━━━━━━━━━━━━━━━━━\u001b[0m\u001b[37m\u001b[0m \u001b[1m0s\u001b[0m 70ms/step - accuracy: 0.1561 - loss: 3.1559 - val_accuracy: 0.0952 - val_loss: 5.6467\n",
            "Epoch 20/100\n",
            "\u001b[1m3/3\u001b[0m \u001b[32m━━━━━━━━━━━━━━━━━━━━\u001b[0m\u001b[37m\u001b[0m \u001b[1m0s\u001b[0m 65ms/step - accuracy: 0.1703 - loss: 3.0267 - val_accuracy: 0.0952 - val_loss: 5.6221\n",
            "Epoch 21/100\n",
            "\u001b[1m3/3\u001b[0m \u001b[32m━━━━━━━━━━━━━━━━━━━━\u001b[0m\u001b[37m\u001b[0m \u001b[1m0s\u001b[0m 68ms/step - accuracy: 0.2001 - loss: 2.9727 - val_accuracy: 0.0952 - val_loss: 5.7145\n",
            "Epoch 22/100\n",
            "\u001b[1m3/3\u001b[0m \u001b[32m━━━━━━━━━━━━━━━━━━━━\u001b[0m\u001b[37m\u001b[0m \u001b[1m0s\u001b[0m 62ms/step - accuracy: 0.1805 - loss: 2.8958 - val_accuracy: 0.1429 - val_loss: 5.8155\n",
            "Epoch 23/100\n",
            "\u001b[1m3/3\u001b[0m \u001b[32m━━━━━━━━━━━━━━━━━━━━\u001b[0m\u001b[37m\u001b[0m \u001b[1m0s\u001b[0m 70ms/step - accuracy: 0.2774 - loss: 2.8210 - val_accuracy: 0.1429 - val_loss: 5.8631\n",
            "Epoch 24/100\n",
            "\u001b[1m3/3\u001b[0m \u001b[32m━━━━━━━━━━━━━━━━━━━━\u001b[0m\u001b[37m\u001b[0m \u001b[1m0s\u001b[0m 81ms/step - accuracy: 0.3349 - loss: 2.7791 - val_accuracy: 0.1429 - val_loss: 6.0361\n",
            "Epoch 25/100\n",
            "\u001b[1m3/3\u001b[0m \u001b[32m━━━━━━━━━━━━━━━━━━━━\u001b[0m\u001b[37m\u001b[0m \u001b[1m0s\u001b[0m 68ms/step - accuracy: 0.3799 - loss: 2.6297 - val_accuracy: 0.1429 - val_loss: 6.2010\n",
            "Epoch 26/100\n",
            "\u001b[1m3/3\u001b[0m \u001b[32m━━━━━━━━━━━━━━━━━━━━\u001b[0m\u001b[37m\u001b[0m \u001b[1m0s\u001b[0m 70ms/step - accuracy: 0.3860 - loss: 2.5899 - val_accuracy: 0.1429 - val_loss: 6.2919\n",
            "Epoch 27/100\n",
            "\u001b[1m3/3\u001b[0m \u001b[32m━━━━━━━━━━━━━━━━━━━━\u001b[0m\u001b[37m\u001b[0m \u001b[1m0s\u001b[0m 86ms/step - accuracy: 0.3881 - loss: 2.5163 - val_accuracy: 0.1429 - val_loss: 6.3603\n",
            "Epoch 28/100\n",
            "\u001b[1m3/3\u001b[0m \u001b[32m━━━━━━━━━━━━━━━━━━━━\u001b[0m\u001b[37m\u001b[0m \u001b[1m0s\u001b[0m 69ms/step - accuracy: 0.4949 - loss: 2.3712 - val_accuracy: 0.1429 - val_loss: 6.4243\n",
            "Epoch 29/100\n",
            "\u001b[1m3/3\u001b[0m \u001b[32m━━━━━━━━━━━━━━━━━━━━\u001b[0m\u001b[37m\u001b[0m \u001b[1m0s\u001b[0m 71ms/step - accuracy: 0.5878 - loss: 2.3279 - val_accuracy: 0.1429 - val_loss: 6.4349\n",
            "Epoch 30/100\n",
            "\u001b[1m3/3\u001b[0m \u001b[32m━━━━━━━━━━━━━━━━━━━━\u001b[0m\u001b[37m\u001b[0m \u001b[1m0s\u001b[0m 71ms/step - accuracy: 0.6450 - loss: 2.1780 - val_accuracy: 0.0952 - val_loss: 6.4393\n",
            "Epoch 31/100\n",
            "\u001b[1m3/3\u001b[0m \u001b[32m━━━━━━━━━━━━━━━━━━━━\u001b[0m\u001b[37m\u001b[0m \u001b[1m0s\u001b[0m 69ms/step - accuracy: 0.6059 - loss: 2.1563 - val_accuracy: 0.0952 - val_loss: 6.4928\n",
            "Epoch 32/100\n",
            "\u001b[1m3/3\u001b[0m \u001b[32m━━━━━━━━━━━━━━━━━━━━\u001b[0m\u001b[37m\u001b[0m \u001b[1m0s\u001b[0m 67ms/step - accuracy: 0.6218 - loss: 2.0575 - val_accuracy: 0.0952 - val_loss: 6.5207\n",
            "Epoch 33/100\n",
            "\u001b[1m3/3\u001b[0m \u001b[32m━━━━━━━━━━━━━━━━━━━━\u001b[0m\u001b[37m\u001b[0m \u001b[1m0s\u001b[0m 70ms/step - accuracy: 0.7169 - loss: 1.9634 - val_accuracy: 0.0952 - val_loss: 6.5468\n",
            "Epoch 34/100\n",
            "\u001b[1m3/3\u001b[0m \u001b[32m━━━━━━━━━━━━━━━━━━━━\u001b[0m\u001b[37m\u001b[0m \u001b[1m0s\u001b[0m 73ms/step - accuracy: 0.7840 - loss: 1.8558 - val_accuracy: 0.0952 - val_loss: 6.6213\n",
            "Epoch 35/100\n",
            "\u001b[1m3/3\u001b[0m \u001b[32m━━━━━━━━━━━━━━━━━━━━\u001b[0m\u001b[37m\u001b[0m \u001b[1m0s\u001b[0m 70ms/step - accuracy: 0.8454 - loss: 1.7744 - val_accuracy: 0.0952 - val_loss: 6.6838\n",
            "Epoch 36/100\n",
            "\u001b[1m3/3\u001b[0m \u001b[32m━━━━━━━━━━━━━━━━━━━━\u001b[0m\u001b[37m\u001b[0m \u001b[1m0s\u001b[0m 69ms/step - accuracy: 0.8436 - loss: 1.6219 - val_accuracy: 0.0952 - val_loss: 6.7368\n",
            "Epoch 37/100\n",
            "\u001b[1m3/3\u001b[0m \u001b[32m━━━━━━━━━━━━━━━━━━━━\u001b[0m\u001b[37m\u001b[0m \u001b[1m1s\u001b[0m 250ms/step - accuracy: 0.8652 - loss: 1.5399 - val_accuracy: 0.0952 - val_loss: 6.7999\n",
            "Epoch 38/100\n",
            "\u001b[1m3/3\u001b[0m \u001b[32m━━━━━━━━━━━━━━━━━━━━\u001b[0m\u001b[37m\u001b[0m \u001b[1m1s\u001b[0m 235ms/step - accuracy: 0.8613 - loss: 1.4778 - val_accuracy: 0.0952 - val_loss: 6.8465\n",
            "Epoch 39/100\n",
            "\u001b[1m3/3\u001b[0m \u001b[32m━━━━━━━━━━━━━━━━━━━━\u001b[0m\u001b[37m\u001b[0m \u001b[1m1s\u001b[0m 126ms/step - accuracy: 0.9071 - loss: 1.4071 - val_accuracy: 0.0952 - val_loss: 6.9000\n",
            "Epoch 40/100\n",
            "\u001b[1m3/3\u001b[0m \u001b[32m━━━━━━━━━━━━━━━━━━━━\u001b[0m\u001b[37m\u001b[0m \u001b[1m0s\u001b[0m 68ms/step - accuracy: 0.9624 - loss: 1.3072 - val_accuracy: 0.0952 - val_loss: 6.9791\n",
            "Epoch 41/100\n",
            "\u001b[1m3/3\u001b[0m \u001b[32m━━━━━━━━━━━━━━━━━━━━\u001b[0m\u001b[37m\u001b[0m \u001b[1m0s\u001b[0m 66ms/step - accuracy: 0.9741 - loss: 1.2395 - val_accuracy: 0.0952 - val_loss: 7.0414\n",
            "Epoch 42/100\n",
            "\u001b[1m3/3\u001b[0m \u001b[32m━━━━━━━━━━━━━━━━━━━━\u001b[0m\u001b[37m\u001b[0m \u001b[1m0s\u001b[0m 88ms/step - accuracy: 0.9762 - loss: 1.1447 - val_accuracy: 0.0952 - val_loss: 7.1111\n",
            "Epoch 43/100\n",
            "\u001b[1m3/3\u001b[0m \u001b[32m━━━━━━━━━━━━━━━━━━━━\u001b[0m\u001b[37m\u001b[0m \u001b[1m0s\u001b[0m 67ms/step - accuracy: 0.9901 - loss: 1.0652 - val_accuracy: 0.0952 - val_loss: 7.1912\n",
            "Epoch 44/100\n",
            "\u001b[1m3/3\u001b[0m \u001b[32m━━━━━━━━━━━━━━━━━━━━\u001b[0m\u001b[37m\u001b[0m \u001b[1m0s\u001b[0m 86ms/step - accuracy: 0.9940 - loss: 1.0242 - val_accuracy: 0.0952 - val_loss: 7.2668\n",
            "Epoch 45/100\n",
            "\u001b[1m3/3\u001b[0m \u001b[32m━━━━━━━━━━━━━━━━━━━━\u001b[0m\u001b[37m\u001b[0m \u001b[1m0s\u001b[0m 70ms/step - accuracy: 1.0000 - loss: 0.9494 - val_accuracy: 0.0952 - val_loss: 7.3383\n",
            "Epoch 46/100\n",
            "\u001b[1m3/3\u001b[0m \u001b[32m━━━━━━━━━━━━━━━━━━━━\u001b[0m\u001b[37m\u001b[0m \u001b[1m0s\u001b[0m 83ms/step - accuracy: 1.0000 - loss: 0.8940 - val_accuracy: 0.0952 - val_loss: 7.3900\n",
            "Epoch 47/100\n",
            "\u001b[1m3/3\u001b[0m \u001b[32m━━━━━━━━━━━━━━━━━━━━\u001b[0m\u001b[37m\u001b[0m \u001b[1m0s\u001b[0m 65ms/step - accuracy: 1.0000 - loss: 0.8378 - val_accuracy: 0.0952 - val_loss: 7.4431\n",
            "Epoch 48/100\n",
            "\u001b[1m3/3\u001b[0m \u001b[32m━━━━━━━━━━━━━━━━━━━━\u001b[0m\u001b[37m\u001b[0m \u001b[1m0s\u001b[0m 85ms/step - accuracy: 1.0000 - loss: 0.7860 - val_accuracy: 0.0952 - val_loss: 7.4956\n",
            "Epoch 49/100\n",
            "\u001b[1m3/3\u001b[0m \u001b[32m━━━━━━━━━━━━━━━━━━━━\u001b[0m\u001b[37m\u001b[0m \u001b[1m0s\u001b[0m 71ms/step - accuracy: 1.0000 - loss: 0.7255 - val_accuracy: 0.0952 - val_loss: 7.5401\n",
            "Epoch 50/100\n",
            "\u001b[1m3/3\u001b[0m \u001b[32m━━━━━━━━━━━━━━━━━━━━\u001b[0m\u001b[37m\u001b[0m \u001b[1m0s\u001b[0m 68ms/step - accuracy: 1.0000 - loss: 0.6836 - val_accuracy: 0.0952 - val_loss: 7.5983\n",
            "Epoch 51/100\n",
            "\u001b[1m3/3\u001b[0m \u001b[32m━━━━━━━━━━━━━━━━━━━━\u001b[0m\u001b[37m\u001b[0m \u001b[1m0s\u001b[0m 68ms/step - accuracy: 1.0000 - loss: 0.6591 - val_accuracy: 0.0952 - val_loss: 7.6573\n",
            "Epoch 52/100\n",
            "\u001b[1m3/3\u001b[0m \u001b[32m━━━━━━━━━━━━━━━━━━━━\u001b[0m\u001b[37m\u001b[0m \u001b[1m0s\u001b[0m 71ms/step - accuracy: 1.0000 - loss: 0.5991 - val_accuracy: 0.0952 - val_loss: 7.7016\n",
            "Epoch 53/100\n",
            "\u001b[1m3/3\u001b[0m \u001b[32m━━━━━━━━━━━━━━━━━━━━\u001b[0m\u001b[37m\u001b[0m \u001b[1m0s\u001b[0m 83ms/step - accuracy: 1.0000 - loss: 0.5588 - val_accuracy: 0.0952 - val_loss: 7.7407\n",
            "Epoch 54/100\n",
            "\u001b[1m3/3\u001b[0m \u001b[32m━━━━━━━━━━━━━━━━━━━━\u001b[0m\u001b[37m\u001b[0m \u001b[1m0s\u001b[0m 70ms/step - accuracy: 1.0000 - loss: 0.5340 - val_accuracy: 0.0952 - val_loss: 7.7912\n",
            "Epoch 55/100\n",
            "\u001b[1m3/3\u001b[0m \u001b[32m━━━━━━━━━━━━━━━━━━━━\u001b[0m\u001b[37m\u001b[0m \u001b[1m0s\u001b[0m 71ms/step - accuracy: 1.0000 - loss: 0.4983 - val_accuracy: 0.0952 - val_loss: 7.8505\n",
            "Epoch 56/100\n",
            "\u001b[1m3/3\u001b[0m \u001b[32m━━━━━━━━━━━━━━━━━━━━\u001b[0m\u001b[37m\u001b[0m \u001b[1m0s\u001b[0m 86ms/step - accuracy: 1.0000 - loss: 0.4562 - val_accuracy: 0.0952 - val_loss: 7.8953\n",
            "Epoch 57/100\n",
            "\u001b[1m3/3\u001b[0m \u001b[32m━━━━━━━━━━━━━━━━━━━━\u001b[0m\u001b[37m\u001b[0m \u001b[1m0s\u001b[0m 71ms/step - accuracy: 1.0000 - loss: 0.4278 - val_accuracy: 0.0952 - val_loss: 7.9320\n",
            "Epoch 58/100\n",
            "\u001b[1m3/3\u001b[0m \u001b[32m━━━━━━━━━━━━━━━━━━━━\u001b[0m\u001b[37m\u001b[0m \u001b[1m0s\u001b[0m 88ms/step - accuracy: 1.0000 - loss: 0.4079 - val_accuracy: 0.0952 - val_loss: 7.9707\n",
            "Epoch 59/100\n",
            "\u001b[1m3/3\u001b[0m \u001b[32m━━━━━━━━━━━━━━━━━━━━\u001b[0m\u001b[37m\u001b[0m \u001b[1m0s\u001b[0m 68ms/step - accuracy: 1.0000 - loss: 0.3804 - val_accuracy: 0.0952 - val_loss: 8.0257\n",
            "Epoch 60/100\n",
            "\u001b[1m3/3\u001b[0m \u001b[32m━━━━━━━━━━━━━━━━━━━━\u001b[0m\u001b[37m\u001b[0m \u001b[1m0s\u001b[0m 69ms/step - accuracy: 1.0000 - loss: 0.3513 - val_accuracy: 0.0952 - val_loss: 8.0760\n",
            "Epoch 61/100\n",
            "\u001b[1m3/3\u001b[0m \u001b[32m━━━━━━━━━━━━━━━━━━━━\u001b[0m\u001b[37m\u001b[0m \u001b[1m0s\u001b[0m 68ms/step - accuracy: 1.0000 - loss: 0.3308 - val_accuracy: 0.0952 - val_loss: 8.1074\n",
            "Epoch 62/100\n",
            "\u001b[1m3/3\u001b[0m \u001b[32m━━━━━━━━━━━━━━━━━━━━\u001b[0m\u001b[37m\u001b[0m \u001b[1m0s\u001b[0m 78ms/step - accuracy: 1.0000 - loss: 0.3268 - val_accuracy: 0.0952 - val_loss: 8.1414\n",
            "Epoch 63/100\n",
            "\u001b[1m3/3\u001b[0m \u001b[32m━━━━━━━━━━━━━━━━━━━━\u001b[0m\u001b[37m\u001b[0m \u001b[1m0s\u001b[0m 71ms/step - accuracy: 1.0000 - loss: 0.2905 - val_accuracy: 0.0952 - val_loss: 8.1776\n",
            "Epoch 64/100\n",
            "\u001b[1m3/3\u001b[0m \u001b[32m━━━━━━━━━━━━━━━━━━━━\u001b[0m\u001b[37m\u001b[0m \u001b[1m0s\u001b[0m 75ms/step - accuracy: 1.0000 - loss: 0.2812 - val_accuracy: 0.0952 - val_loss: 8.2096\n",
            "Epoch 65/100\n",
            "\u001b[1m3/3\u001b[0m \u001b[32m━━━━━━━━━━━━━━━━━━━━\u001b[0m\u001b[37m\u001b[0m \u001b[1m0s\u001b[0m 68ms/step - accuracy: 1.0000 - loss: 0.2623 - val_accuracy: 0.0952 - val_loss: 8.2497\n",
            "Epoch 66/100\n",
            "\u001b[1m3/3\u001b[0m \u001b[32m━━━━━━━━━━━━━━━━━━━━\u001b[0m\u001b[37m\u001b[0m \u001b[1m0s\u001b[0m 71ms/step - accuracy: 1.0000 - loss: 0.2325 - val_accuracy: 0.0952 - val_loss: 8.2876\n",
            "Epoch 67/100\n",
            "\u001b[1m3/3\u001b[0m \u001b[32m━━━━━━━━━━━━━━━━━━━━\u001b[0m\u001b[37m\u001b[0m \u001b[1m0s\u001b[0m 98ms/step - accuracy: 1.0000 - loss: 0.2282 - val_accuracy: 0.0952 - val_loss: 8.3258\n",
            "Epoch 68/100\n",
            "\u001b[1m3/3\u001b[0m \u001b[32m━━━━━━━━━━━━━━━━━━━━\u001b[0m\u001b[37m\u001b[0m \u001b[1m0s\u001b[0m 74ms/step - accuracy: 1.0000 - loss: 0.2247 - val_accuracy: 0.0952 - val_loss: 8.3615\n",
            "Epoch 69/100\n",
            "\u001b[1m3/3\u001b[0m \u001b[32m━━━━━━━━━━━━━━━━━━━━\u001b[0m\u001b[37m\u001b[0m \u001b[1m0s\u001b[0m 79ms/step - accuracy: 1.0000 - loss: 0.2134 - val_accuracy: 0.0952 - val_loss: 8.3925\n",
            "Epoch 70/100\n",
            "\u001b[1m3/3\u001b[0m \u001b[32m━━━━━━━━━━━━━━━━━━━━\u001b[0m\u001b[37m\u001b[0m \u001b[1m0s\u001b[0m 70ms/step - accuracy: 1.0000 - loss: 0.1967 - val_accuracy: 0.0952 - val_loss: 8.4219\n",
            "Epoch 71/100\n",
            "\u001b[1m3/3\u001b[0m \u001b[32m━━━━━━━━━━━━━━━━━━━━\u001b[0m\u001b[37m\u001b[0m \u001b[1m0s\u001b[0m 85ms/step - accuracy: 1.0000 - loss: 0.1887 - val_accuracy: 0.0952 - val_loss: 8.4567\n",
            "Epoch 72/100\n",
            "\u001b[1m3/3\u001b[0m \u001b[32m━━━━━━━━━━━━━━━━━━━━\u001b[0m\u001b[37m\u001b[0m \u001b[1m0s\u001b[0m 77ms/step - accuracy: 1.0000 - loss: 0.1715 - val_accuracy: 0.0952 - val_loss: 8.4859\n",
            "Epoch 73/100\n",
            "\u001b[1m3/3\u001b[0m \u001b[32m━━━━━━━━━━━━━━━━━━━━\u001b[0m\u001b[37m\u001b[0m \u001b[1m0s\u001b[0m 77ms/step - accuracy: 1.0000 - loss: 0.1713 - val_accuracy: 0.0952 - val_loss: 8.5144\n",
            "Epoch 74/100\n",
            "\u001b[1m3/3\u001b[0m \u001b[32m━━━━━━━━━━━━━━━━━━━━\u001b[0m\u001b[37m\u001b[0m \u001b[1m0s\u001b[0m 72ms/step - accuracy: 1.0000 - loss: 0.1616 - val_accuracy: 0.0952 - val_loss: 8.5400\n",
            "Epoch 75/100\n",
            "\u001b[1m3/3\u001b[0m \u001b[32m━━━━━━━━━━━━━━━━━━━━\u001b[0m\u001b[37m\u001b[0m \u001b[1m0s\u001b[0m 69ms/step - accuracy: 1.0000 - loss: 0.1493 - val_accuracy: 0.0952 - val_loss: 8.5642\n",
            "Epoch 76/100\n",
            "\u001b[1m3/3\u001b[0m \u001b[32m━━━━━━━━━━━━━━━━━━━━\u001b[0m\u001b[37m\u001b[0m \u001b[1m0s\u001b[0m 89ms/step - accuracy: 1.0000 - loss: 0.1413 - val_accuracy: 0.0952 - val_loss: 8.5896\n",
            "Epoch 77/100\n",
            "\u001b[1m3/3\u001b[0m \u001b[32m━━━━━━━━━━━━━━━━━━━━\u001b[0m\u001b[37m\u001b[0m \u001b[1m0s\u001b[0m 119ms/step - accuracy: 1.0000 - loss: 0.1355 - val_accuracy: 0.0952 - val_loss: 8.6163\n",
            "Epoch 78/100\n",
            "\u001b[1m3/3\u001b[0m \u001b[32m━━━━━━━━━━━━━━━━━━━━\u001b[0m\u001b[37m\u001b[0m \u001b[1m0s\u001b[0m 138ms/step - accuracy: 1.0000 - loss: 0.1298 - val_accuracy: 0.0952 - val_loss: 8.6416\n",
            "Epoch 79/100\n",
            "\u001b[1m3/3\u001b[0m \u001b[32m━━━━━━━━━━━━━━━━━━━━\u001b[0m\u001b[37m\u001b[0m \u001b[1m0s\u001b[0m 124ms/step - accuracy: 1.0000 - loss: 0.1248 - val_accuracy: 0.0952 - val_loss: 8.6686\n",
            "Epoch 80/100\n",
            "\u001b[1m3/3\u001b[0m \u001b[32m━━━━━━━━━━━━━━━━━━━━\u001b[0m\u001b[37m\u001b[0m \u001b[1m1s\u001b[0m 137ms/step - accuracy: 1.0000 - loss: 0.1176 - val_accuracy: 0.0952 - val_loss: 8.6910\n",
            "Epoch 81/100\n",
            "\u001b[1m3/3\u001b[0m \u001b[32m━━━━━━━━━━━━━━━━━━━━\u001b[0m\u001b[37m\u001b[0m \u001b[1m0s\u001b[0m 132ms/step - accuracy: 1.0000 - loss: 0.1149 - val_accuracy: 0.0952 - val_loss: 8.7114\n",
            "Epoch 82/100\n",
            "\u001b[1m3/3\u001b[0m \u001b[32m━━━━━━━━━━━━━━━━━━━━\u001b[0m\u001b[37m\u001b[0m \u001b[1m0s\u001b[0m 69ms/step - accuracy: 1.0000 - loss: 0.1085 - val_accuracy: 0.0952 - val_loss: 8.7326\n",
            "Epoch 83/100\n",
            "\u001b[1m3/3\u001b[0m \u001b[32m━━━━━━━━━━━━━━━━━━━━\u001b[0m\u001b[37m\u001b[0m \u001b[1m0s\u001b[0m 71ms/step - accuracy: 1.0000 - loss: 0.1017 - val_accuracy: 0.0952 - val_loss: 8.7497\n",
            "Epoch 84/100\n",
            "\u001b[1m3/3\u001b[0m \u001b[32m━━━━━━━━━━━━━━━━━━━━\u001b[0m\u001b[37m\u001b[0m \u001b[1m0s\u001b[0m 74ms/step - accuracy: 1.0000 - loss: 0.1010 - val_accuracy: 0.0952 - val_loss: 8.7696\n",
            "Epoch 85/100\n",
            "\u001b[1m3/3\u001b[0m \u001b[32m━━━━━━━━━━━━━━━━━━━━\u001b[0m\u001b[37m\u001b[0m \u001b[1m0s\u001b[0m 70ms/step - accuracy: 1.0000 - loss: 0.0981 - val_accuracy: 0.0952 - val_loss: 8.7868\n",
            "Epoch 86/100\n",
            "\u001b[1m3/3\u001b[0m \u001b[32m━━━━━━━━━━━━━━━━━━━━\u001b[0m\u001b[37m\u001b[0m \u001b[1m0s\u001b[0m 75ms/step - accuracy: 1.0000 - loss: 0.0935 - val_accuracy: 0.0952 - val_loss: 8.8027\n",
            "Epoch 87/100\n",
            "\u001b[1m3/3\u001b[0m \u001b[32m━━━━━━━━━━━━━━━━━━━━\u001b[0m\u001b[37m\u001b[0m \u001b[1m0s\u001b[0m 70ms/step - accuracy: 1.0000 - loss: 0.0889 - val_accuracy: 0.0952 - val_loss: 8.8181\n",
            "Epoch 88/100\n",
            "\u001b[1m3/3\u001b[0m \u001b[32m━━━━━━━━━━━━━━━━━━━━\u001b[0m\u001b[37m\u001b[0m \u001b[1m0s\u001b[0m 68ms/step - accuracy: 1.0000 - loss: 0.0856 - val_accuracy: 0.0952 - val_loss: 8.8360\n",
            "Epoch 89/100\n",
            "\u001b[1m3/3\u001b[0m \u001b[32m━━━━━━━━━━━━━━━━━━━━\u001b[0m\u001b[37m\u001b[0m \u001b[1m0s\u001b[0m 68ms/step - accuracy: 1.0000 - loss: 0.0807 - val_accuracy: 0.0952 - val_loss: 8.8540\n",
            "Epoch 90/100\n",
            "\u001b[1m3/3\u001b[0m \u001b[32m━━━━━━━━━━━━━━━━━━━━\u001b[0m\u001b[37m\u001b[0m \u001b[1m0s\u001b[0m 89ms/step - accuracy: 1.0000 - loss: 0.0795 - val_accuracy: 0.0952 - val_loss: 8.8737\n",
            "Epoch 91/100\n",
            "\u001b[1m3/3\u001b[0m \u001b[32m━━━━━━━━━━━━━━━━━━━━\u001b[0m\u001b[37m\u001b[0m \u001b[1m0s\u001b[0m 68ms/step - accuracy: 1.0000 - loss: 0.0759 - val_accuracy: 0.0952 - val_loss: 8.8930\n",
            "Epoch 92/100\n",
            "\u001b[1m3/3\u001b[0m \u001b[32m━━━━━━━━━━━━━━━━━━━━\u001b[0m\u001b[37m\u001b[0m \u001b[1m0s\u001b[0m 67ms/step - accuracy: 1.0000 - loss: 0.0715 - val_accuracy: 0.0952 - val_loss: 8.9098\n",
            "Epoch 93/100\n",
            "\u001b[1m3/3\u001b[0m \u001b[32m━━━━━━━━━━━━━━━━━━━━\u001b[0m\u001b[37m\u001b[0m \u001b[1m0s\u001b[0m 70ms/step - accuracy: 1.0000 - loss: 0.0697 - val_accuracy: 0.0952 - val_loss: 8.9298\n",
            "Epoch 94/100\n",
            "\u001b[1m3/3\u001b[0m \u001b[32m━━━━━━━━━━━━━━━━━━━━\u001b[0m\u001b[37m\u001b[0m \u001b[1m0s\u001b[0m 75ms/step - accuracy: 1.0000 - loss: 0.0696 - val_accuracy: 0.0952 - val_loss: 8.9498\n",
            "Epoch 95/100\n",
            "\u001b[1m3/3\u001b[0m \u001b[32m━━━━━━━━━━━━━━━━━━━━\u001b[0m\u001b[37m\u001b[0m \u001b[1m0s\u001b[0m 68ms/step - accuracy: 1.0000 - loss: 0.0655 - val_accuracy: 0.0952 - val_loss: 8.9671\n",
            "Epoch 96/100\n",
            "\u001b[1m3/3\u001b[0m \u001b[32m━━━━━━━━━━━━━━━━━━━━\u001b[0m\u001b[37m\u001b[0m \u001b[1m0s\u001b[0m 72ms/step - accuracy: 1.0000 - loss: 0.0629 - val_accuracy: 0.0952 - val_loss: 8.9827\n",
            "Epoch 97/100\n",
            "\u001b[1m3/3\u001b[0m \u001b[32m━━━━━━━━━━━━━━━━━━━━\u001b[0m\u001b[37m\u001b[0m \u001b[1m0s\u001b[0m 84ms/step - accuracy: 1.0000 - loss: 0.0620 - val_accuracy: 0.0952 - val_loss: 8.9988\n",
            "Epoch 98/100\n",
            "\u001b[1m3/3\u001b[0m \u001b[32m━━━━━━━━━━━━━━━━━━━━\u001b[0m\u001b[37m\u001b[0m \u001b[1m0s\u001b[0m 74ms/step - accuracy: 1.0000 - loss: 0.0609 - val_accuracy: 0.0952 - val_loss: 9.0151\n",
            "Epoch 99/100\n",
            "\u001b[1m3/3\u001b[0m \u001b[32m━━━━━━━━━━━━━━━━━━━━\u001b[0m\u001b[37m\u001b[0m \u001b[1m0s\u001b[0m 97ms/step - accuracy: 1.0000 - loss: 0.0590 - val_accuracy: 0.0952 - val_loss: 9.0288\n",
            "Epoch 100/100\n",
            "\u001b[1m3/3\u001b[0m \u001b[32m━━━━━━━━━━━━━━━━━━━━\u001b[0m\u001b[37m\u001b[0m \u001b[1m0s\u001b[0m 72ms/step - accuracy: 1.0000 - loss: 0.0543 - val_accuracy: 0.0952 - val_loss: 9.0418\n"
          ]
        }
      ]
    },
    {
      "cell_type": "code",
      "source": [
        "model.summary()"
      ],
      "metadata": {
        "colab": {
          "base_uri": "https://localhost:8080/",
          "height": 244
        },
        "id": "0WbhV2qABJUL",
        "outputId": "1fa03f3e-c175-47a8-8e84-c69fbd42408b"
      },
      "execution_count": 24,
      "outputs": [
        {
          "output_type": "display_data",
          "data": {
            "text/plain": [
              "\u001b[1mModel: \"sequential_1\"\u001b[0m\n"
            ],
            "text/html": [
              "<pre style=\"white-space:pre;overflow-x:auto;line-height:normal;font-family:Menlo,'DejaVu Sans Mono',consolas,'Courier New',monospace\"><span style=\"font-weight: bold\">Model: \"sequential_1\"</span>\n",
              "</pre>\n"
            ]
          },
          "metadata": {}
        },
        {
          "output_type": "display_data",
          "data": {
            "text/plain": [
              "┏━━━━━━━━━━━━━━━━━━━━━━━━━━━━━━━━━┳━━━━━━━━━━━━━━━━━━━━━━━━┳━━━━━━━━━━━━━━━┓\n",
              "┃\u001b[1m \u001b[0m\u001b[1mLayer (type)                   \u001b[0m\u001b[1m \u001b[0m┃\u001b[1m \u001b[0m\u001b[1mOutput Shape          \u001b[0m\u001b[1m \u001b[0m┃\u001b[1m \u001b[0m\u001b[1m      Param #\u001b[0m\u001b[1m \u001b[0m┃\n",
              "┡━━━━━━━━━━━━━━━━━━━━━━━━━━━━━━━━━╇━━━━━━━━━━━━━━━━━━━━━━━━╇━━━━━━━━━━━━━━━┩\n",
              "│ embedding_1 (\u001b[38;5;33mEmbedding\u001b[0m)         │ (\u001b[38;5;45mNone\u001b[0m, \u001b[38;5;34m23\u001b[0m, \u001b[38;5;34m100\u001b[0m)        │         \u001b[38;5;34m8,200\u001b[0m │\n",
              "├─────────────────────────────────┼────────────────────────┼───────────────┤\n",
              "│ gru_1 (\u001b[38;5;33mGRU\u001b[0m)                     │ (\u001b[38;5;45mNone\u001b[0m, \u001b[38;5;34m150\u001b[0m)            │       \u001b[38;5;34m113,400\u001b[0m │\n",
              "├─────────────────────────────────┼────────────────────────┼───────────────┤\n",
              "│ dense_1 (\u001b[38;5;33mDense\u001b[0m)                 │ (\u001b[38;5;45mNone\u001b[0m, \u001b[38;5;34m82\u001b[0m)             │        \u001b[38;5;34m12,382\u001b[0m │\n",
              "└─────────────────────────────────┴────────────────────────┴───────────────┘\n"
            ],
            "text/html": [
              "<pre style=\"white-space:pre;overflow-x:auto;line-height:normal;font-family:Menlo,'DejaVu Sans Mono',consolas,'Courier New',monospace\">┏━━━━━━━━━━━━━━━━━━━━━━━━━━━━━━━━━┳━━━━━━━━━━━━━━━━━━━━━━━━┳━━━━━━━━━━━━━━━┓\n",
              "┃<span style=\"font-weight: bold\"> Layer (type)                    </span>┃<span style=\"font-weight: bold\"> Output Shape           </span>┃<span style=\"font-weight: bold\">       Param # </span>┃\n",
              "┡━━━━━━━━━━━━━━━━━━━━━━━━━━━━━━━━━╇━━━━━━━━━━━━━━━━━━━━━━━━╇━━━━━━━━━━━━━━━┩\n",
              "│ embedding_1 (<span style=\"color: #0087ff; text-decoration-color: #0087ff\">Embedding</span>)         │ (<span style=\"color: #00d7ff; text-decoration-color: #00d7ff\">None</span>, <span style=\"color: #00af00; text-decoration-color: #00af00\">23</span>, <span style=\"color: #00af00; text-decoration-color: #00af00\">100</span>)        │         <span style=\"color: #00af00; text-decoration-color: #00af00\">8,200</span> │\n",
              "├─────────────────────────────────┼────────────────────────┼───────────────┤\n",
              "│ gru_1 (<span style=\"color: #0087ff; text-decoration-color: #0087ff\">GRU</span>)                     │ (<span style=\"color: #00d7ff; text-decoration-color: #00d7ff\">None</span>, <span style=\"color: #00af00; text-decoration-color: #00af00\">150</span>)            │       <span style=\"color: #00af00; text-decoration-color: #00af00\">113,400</span> │\n",
              "├─────────────────────────────────┼────────────────────────┼───────────────┤\n",
              "│ dense_1 (<span style=\"color: #0087ff; text-decoration-color: #0087ff\">Dense</span>)                 │ (<span style=\"color: #00d7ff; text-decoration-color: #00d7ff\">None</span>, <span style=\"color: #00af00; text-decoration-color: #00af00\">82</span>)             │        <span style=\"color: #00af00; text-decoration-color: #00af00\">12,382</span> │\n",
              "└─────────────────────────────────┴────────────────────────┴───────────────┘\n",
              "</pre>\n"
            ]
          },
          "metadata": {}
        },
        {
          "output_type": "display_data",
          "data": {
            "text/plain": [
              "\u001b[1m Total params: \u001b[0m\u001b[38;5;34m401,948\u001b[0m (1.53 MB)\n"
            ],
            "text/html": [
              "<pre style=\"white-space:pre;overflow-x:auto;line-height:normal;font-family:Menlo,'DejaVu Sans Mono',consolas,'Courier New',monospace\"><span style=\"font-weight: bold\"> Total params: </span><span style=\"color: #00af00; text-decoration-color: #00af00\">401,948</span> (1.53 MB)\n",
              "</pre>\n"
            ]
          },
          "metadata": {}
        },
        {
          "output_type": "display_data",
          "data": {
            "text/plain": [
              "\u001b[1m Trainable params: \u001b[0m\u001b[38;5;34m133,982\u001b[0m (523.37 KB)\n"
            ],
            "text/html": [
              "<pre style=\"white-space:pre;overflow-x:auto;line-height:normal;font-family:Menlo,'DejaVu Sans Mono',consolas,'Courier New',monospace\"><span style=\"font-weight: bold\"> Trainable params: </span><span style=\"color: #00af00; text-decoration-color: #00af00\">133,982</span> (523.37 KB)\n",
              "</pre>\n"
            ]
          },
          "metadata": {}
        },
        {
          "output_type": "display_data",
          "data": {
            "text/plain": [
              "\u001b[1m Non-trainable params: \u001b[0m\u001b[38;5;34m0\u001b[0m (0.00 B)\n"
            ],
            "text/html": [
              "<pre style=\"white-space:pre;overflow-x:auto;line-height:normal;font-family:Menlo,'DejaVu Sans Mono',consolas,'Courier New',monospace\"><span style=\"font-weight: bold\"> Non-trainable params: </span><span style=\"color: #00af00; text-decoration-color: #00af00\">0</span> (0.00 B)\n",
              "</pre>\n"
            ]
          },
          "metadata": {}
        },
        {
          "output_type": "display_data",
          "data": {
            "text/plain": [
              "\u001b[1m Optimizer params: \u001b[0m\u001b[38;5;34m267,966\u001b[0m (1.02 MB)\n"
            ],
            "text/html": [
              "<pre style=\"white-space:pre;overflow-x:auto;line-height:normal;font-family:Menlo,'DejaVu Sans Mono',consolas,'Courier New',monospace\"><span style=\"font-weight: bold\"> Optimizer params: </span><span style=\"color: #00af00; text-decoration-color: #00af00\">267,966</span> (1.02 MB)\n",
              "</pre>\n"
            ]
          },
          "metadata": {}
        }
      ]
    },
    {
      "cell_type": "code",
      "source": [
        "text2 = \"Data\"\n",
        "\n",
        "## tokenization\n",
        "token_text = tokenizer.texts_to_sequences([text2])[0]\n",
        "\n",
        "## padding\n",
        "padded_text = pad_sequences([token_text], maxlen=max_len-1, padding='pre')\n",
        "\n",
        "## model prediction\n",
        "prediction = model.predict(padded_text)"
      ],
      "metadata": {
        "colab": {
          "base_uri": "https://localhost:8080/"
        },
        "id": "-NDSNs6pBLLc",
        "outputId": "520dd2db-6e86-42de-bf0c-62934592f9ee"
      },
      "execution_count": 25,
      "outputs": [
        {
          "output_type": "stream",
          "name": "stdout",
          "text": [
            "\u001b[1m1/1\u001b[0m \u001b[32m━━━━━━━━━━━━━━━━━━━━\u001b[0m\u001b[37m\u001b[0m \u001b[1m0s\u001b[0m 308ms/step\n"
          ]
        }
      ]
    },
    {
      "cell_type": "code",
      "source": [
        "import numpy as np\n",
        "pos = np.argmax(prediction)"
      ],
      "metadata": {
        "id": "ZFi02GN7CTaw"
      },
      "execution_count": 27,
      "outputs": []
    },
    {
      "cell_type": "code",
      "source": [
        "for word, index in tokenizer.word_index.items():\n",
        "  if index==pos:\n",
        "    print(word)"
      ],
      "metadata": {
        "colab": {
          "base_uri": "https://localhost:8080/"
        },
        "id": "u1ujgqtjCVU2",
        "outputId": "adbdadda-e0c0-45c1-992d-de90e88d31d6"
      },
      "execution_count": 30,
      "outputs": [
        {
          "output_type": "stream",
          "name": "stdout",
          "text": [
            "analysis\n"
          ]
        }
      ]
    },
    {
      "cell_type": "code",
      "source": [
        "text"
      ],
      "metadata": {
        "colab": {
          "base_uri": "https://localhost:8080/",
          "height": 192
        },
        "id": "5hS0a2jUCh1O",
        "outputId": "fe7388ae-4703-4e8d-bf4c-69af70958a91"
      },
      "execution_count": 31,
      "outputs": [
        {
          "output_type": "execute_result",
          "data": {
            "text/plain": [
              "\"Data analysis is not just a mere process; it's a tool that empowers organizations to make informed decisions, predict trends, and improve operational efficiency.\\nIt's the backbone of strategic planning in businesses, governments, and other organizations.Consider some examples. Take, for instance, a leading e-commerce company. \\nThrough data analysis, the company can understand their customers' buying behavior, preferences, and patterns. \\nThey can then use this information to personalize customer experiences, forecast sales, and optimize marketing strategies, ultimately driving business growth and customer satisfaction.\\nAnother good example is the healthcare industry. \\nThrough data analysis, healthcare providers can predict disease outbreaks, improve patient care, and make informed decisions about treatment strategies. \""
            ],
            "application/vnd.google.colaboratory.intrinsic+json": {
              "type": "string"
            }
          },
          "metadata": {},
          "execution_count": 31
        }
      ]
    },
    {
      "cell_type": "code",
      "source": [
        "text3 = \"Data analysis is not just a mere process; it's a tool that empowers organizations to make informed decisions,\"\n",
        "\n",
        "token_text = tokenizer.texts_to_sequences([text3])[0]\n",
        "padded_text = pad_sequences([token_text], maxlen=max_len-1, padding='pre')\n",
        "prediction = model.predict(padded_text)"
      ],
      "metadata": {
        "colab": {
          "base_uri": "https://localhost:8080/"
        },
        "id": "JZX6ixr3C5u4",
        "outputId": "0f59a73b-c439-4862-f430-a691b6f3663a"
      },
      "execution_count": 32,
      "outputs": [
        {
          "output_type": "stream",
          "name": "stdout",
          "text": [
            "\u001b[1m1/1\u001b[0m \u001b[32m━━━━━━━━━━━━━━━━━━━━\u001b[0m\u001b[37m\u001b[0m \u001b[1m0s\u001b[0m 46ms/step\n"
          ]
        }
      ]
    },
    {
      "cell_type": "code",
      "source": [
        "pos1 = np.argmax(prediction)\n",
        "for word, index in tokenizer.word_index.items():\n",
        "  if index==pos1:\n",
        "    print(word)"
      ],
      "metadata": {
        "colab": {
          "base_uri": "https://localhost:8080/"
        },
        "id": "PMZF4D2gDGY-",
        "outputId": "2579f4fa-434c-463f-a798-09a24d77783b"
      },
      "execution_count": 33,
      "outputs": [
        {
          "output_type": "stream",
          "name": "stdout",
          "text": [
            "predict\n"
          ]
        }
      ]
    },
    {
      "cell_type": "code",
      "source": [],
      "metadata": {
        "id": "IuqWQeLdDPSv"
      },
      "execution_count": null,
      "outputs": []
    }
  ]
}