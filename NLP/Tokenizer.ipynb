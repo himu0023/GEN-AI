{
  "nbformat": 4,
  "nbformat_minor": 0,
  "metadata": {
    "colab": {
      "provenance": [],
      "authorship_tag": "ABX9TyMjp15js9oayi5jnstAYjjI",
      "include_colab_link": true
    },
    "kernelspec": {
      "name": "python3",
      "display_name": "Python 3"
    },
    "language_info": {
      "name": "python"
    }
  },
  "cells": [
    {
      "cell_type": "markdown",
      "metadata": {
        "id": "view-in-github",
        "colab_type": "text"
      },
      "source": [
        "<a href=\"https://colab.research.google.com/github/himu0023/GEN-AI/blob/main/NLP/Tokenizer.ipynb\" target=\"_parent\"><img src=\"https://colab.research.google.com/assets/colab-badge.svg\" alt=\"Open In Colab\"/></a>"
      ]
    },
    {
      "cell_type": "markdown",
      "source": [
        "## Tokenizer"
      ],
      "metadata": {
        "id": "HbWOH4n0Z5al"
      }
    },
    {
      "cell_type": "code",
      "execution_count": null,
      "metadata": {
        "colab": {
          "base_uri": "https://localhost:8080/"
        },
        "id": "oGRkK0-YWqTP",
        "outputId": "1271b704-3491-43a1-c133-1de27dc85dac"
      },
      "outputs": [
        {
          "output_type": "stream",
          "name": "stderr",
          "text": [
            "[nltk_data] Downloading package punkt to /root/nltk_data...\n",
            "[nltk_data]   Package punkt is already up-to-date!\n",
            "[nltk_data] Downloading package punkt_tab to /root/nltk_data...\n",
            "[nltk_data]   Package punkt_tab is already up-to-date!\n"
          ]
        }
      ],
      "source": [
        "import nltk\n",
        "nltk.download('punkt')\n",
        "nltk.download('punkt_tab')\n",
        "from nltk.tokenize import word_tokenize, sent_tokenize\n",
        "\n",
        "\n",
        "# Sample text for tokenization\n",
        "text = \"Bugatti and Koenigsegg are hypercar manufacturers. They both make fantasic cars. Their cars can reach upto 400km/h of speed.\""
      ]
    },
    {
      "cell_type": "code",
      "source": [
        "# Word Tokenizer\n",
        "words = word_tokenize(text)\n",
        "print(words)"
      ],
      "metadata": {
        "colab": {
          "base_uri": "https://localhost:8080/"
        },
        "id": "T0yNeDoJXlvJ",
        "outputId": "967d0d54-129b-4b6c-abe0-808afaa0fd48"
      },
      "execution_count": null,
      "outputs": [
        {
          "output_type": "stream",
          "name": "stdout",
          "text": [
            "['Bugatti', 'and', 'Koenigsegg', 'are', 'hypercar', 'manufacturers', '.', 'They', 'both', 'make', 'fantasic', 'cars', '.', 'Their', 'cars', 'can', 'reach', 'upto', '400km/h', 'of', 'speed', '.']\n"
          ]
        }
      ]
    },
    {
      "cell_type": "code",
      "source": [
        "# Sentence Tokenizer\n",
        "sentences = sent_tokenize(text)\n",
        "print(sentences)"
      ],
      "metadata": {
        "colab": {
          "base_uri": "https://localhost:8080/"
        },
        "id": "nblbmPNJX-qX",
        "outputId": "9fb2f469-8c93-4982-f094-b695ba3bff7b"
      },
      "execution_count": null,
      "outputs": [
        {
          "output_type": "stream",
          "name": "stdout",
          "text": [
            "['Bugatti and Koenigsegg are hypercar manufacturers.', 'They both make fantasic cars.', 'Their cars can reach upto 400km/h of speed.']\n"
          ]
        }
      ]
    },
    {
      "cell_type": "markdown",
      "source": [
        "## Stop Words"
      ],
      "metadata": {
        "id": "mNh1696-ZrVZ"
      }
    },
    {
      "cell_type": "code",
      "source": [
        "from nltk.corpus import stopwords\n",
        "nltk.download('stopwords')"
      ],
      "metadata": {
        "colab": {
          "base_uri": "https://localhost:8080/"
        },
        "id": "6UrY61x5Z9Vq",
        "outputId": "a61e5de3-6c15-48ab-b004-a53ed1ab701d"
      },
      "execution_count": null,
      "outputs": [
        {
          "output_type": "stream",
          "name": "stderr",
          "text": [
            "[nltk_data] Downloading package stopwords to /root/nltk_data...\n",
            "[nltk_data]   Unzipping corpora/stopwords.zip.\n"
          ]
        },
        {
          "output_type": "execute_result",
          "data": {
            "text/plain": [
              "True"
            ]
          },
          "metadata": {},
          "execution_count": 21
        }
      ]
    },
    {
      "cell_type": "code",
      "source": [
        "# Sample Sentence\n",
        "txt = \"Bugatti and Koenigsegg are hypercar manufacturers. They both make fantasic cars. Their cars can reach upto 400km/h of speed.\""
      ],
      "metadata": {
        "id": "0DvAn9fNadOk"
      },
      "execution_count": null,
      "outputs": []
    },
    {
      "cell_type": "code",
      "source": [
        "# Tokenize the sentence\n",
        "words = word_tokenize(txt)\n",
        "\n",
        "# Filter out Stop Words\n",
        "new_sent = [word for word in words if word not in stopwords.words(\"english\")]"
      ],
      "metadata": {
        "id": "kg2Aj21zaj3q"
      },
      "execution_count": null,
      "outputs": []
    },
    {
      "cell_type": "code",
      "source": [
        "print(' '.join(words))\n",
        "print(' '.join(new_sent))"
      ],
      "metadata": {
        "colab": {
          "base_uri": "https://localhost:8080/"
        },
        "id": "4IuMKaPra4tT",
        "outputId": "d734b063-e9ab-4566-f495-5e83d8160669"
      },
      "execution_count": null,
      "outputs": [
        {
          "output_type": "stream",
          "name": "stdout",
          "text": [
            "Bugatti and Koenigsegg are hypercar manufacturers . They both make fantasic cars . Their cars can reach upto 400km/h of speed .\n",
            "Bugatti Koenigsegg hypercar manufacturers . They make fantasic cars . Their cars reach upto 400km/h speed .\n"
          ]
        }
      ]
    },
    {
      "cell_type": "markdown",
      "source": [
        "## N-Grams"
      ],
      "metadata": {
        "id": "5Z-X5sWibLHP"
      }
    },
    {
      "cell_type": "code",
      "source": [
        "import nltk\n",
        "nltk.download('punkt')\n",
        "nltk.download('punkt_tab')\n",
        "from nltk import ngrams"
      ],
      "metadata": {
        "colab": {
          "base_uri": "https://localhost:8080/"
        },
        "id": "Sp9QOXtjdCme",
        "outputId": "e07480ba-759c-47c9-8e61-00dd26ebe349"
      },
      "execution_count": null,
      "outputs": [
        {
          "output_type": "stream",
          "name": "stderr",
          "text": [
            "[nltk_data] Downloading package punkt to /root/nltk_data...\n",
            "[nltk_data]   Package punkt is already up-to-date!\n",
            "[nltk_data] Downloading package punkt_tab to /root/nltk_data...\n",
            "[nltk_data]   Package punkt_tab is already up-to-date!\n"
          ]
        }
      ]
    },
    {
      "cell_type": "code",
      "source": [
        "def generate_ngrams(text, n):\n",
        "  tokens = word_tokenize(text)\n",
        "  return list(ngrams(tokens, n))"
      ],
      "metadata": {
        "id": "XA8vIlXMdPov"
      },
      "execution_count": null,
      "outputs": []
    },
    {
      "cell_type": "code",
      "source": [
        "# Example text\n",
        "txt = \"N-Grams are a sequence of n items from a given samole of text or speech\"\n",
        "\n",
        "unigram = generate_ngrams(txt, 1)\n",
        "bigram = generate_ngrams(txt, 2)\n",
        "trigram = generate_ngrams(txt, 3)"
      ],
      "metadata": {
        "id": "h-37UEIjdUBJ"
      },
      "execution_count": null,
      "outputs": []
    },
    {
      "cell_type": "code",
      "source": [
        "print(unigram)"
      ],
      "metadata": {
        "colab": {
          "base_uri": "https://localhost:8080/"
        },
        "id": "JQRXppYZdqXL",
        "outputId": "98644b1b-2d75-4572-ff75-8d4b4584df04"
      },
      "execution_count": null,
      "outputs": [
        {
          "output_type": "stream",
          "name": "stdout",
          "text": [
            "[('N-Grams',), ('are',), ('a',), ('sequence',), ('of',), ('n',), ('items',), ('from',), ('a',), ('given',), ('samole',), ('of',), ('text',), ('or',), ('speech',)]\n"
          ]
        }
      ]
    },
    {
      "cell_type": "code",
      "source": [
        "print(bigram)"
      ],
      "metadata": {
        "colab": {
          "base_uri": "https://localhost:8080/"
        },
        "id": "jOL_3fj8dr8K",
        "outputId": "ba6e1579-ea85-463d-ad33-625a617324cd"
      },
      "execution_count": null,
      "outputs": [
        {
          "output_type": "stream",
          "name": "stdout",
          "text": [
            "[('N-Grams', 'are'), ('are', 'a'), ('a', 'sequence'), ('sequence', 'of'), ('of', 'n'), ('n', 'items'), ('items', 'from'), ('from', 'a'), ('a', 'given'), ('given', 'samole'), ('samole', 'of'), ('of', 'text'), ('text', 'or'), ('or', 'speech')]\n"
          ]
        }
      ]
    },
    {
      "cell_type": "code",
      "source": [
        "print(trigram)"
      ],
      "metadata": {
        "colab": {
          "base_uri": "https://localhost:8080/"
        },
        "id": "NEK8SbeZdyHU",
        "outputId": "5f6e2cc1-e415-4d73-c07b-8c17a2c2e446"
      },
      "execution_count": null,
      "outputs": [
        {
          "output_type": "stream",
          "name": "stdout",
          "text": [
            "[('N-Grams', 'are', 'a'), ('are', 'a', 'sequence'), ('a', 'sequence', 'of'), ('sequence', 'of', 'n'), ('of', 'n', 'items'), ('n', 'items', 'from'), ('items', 'from', 'a'), ('from', 'a', 'given'), ('a', 'given', 'samole'), ('given', 'samole', 'of'), ('samole', 'of', 'text'), ('of', 'text', 'or'), ('text', 'or', 'speech')]\n"
          ]
        }
      ]
    },
    {
      "cell_type": "code",
      "source": [],
      "metadata": {
        "id": "fIATC_fId7X7"
      },
      "execution_count": null,
      "outputs": []
    }
  ]
}