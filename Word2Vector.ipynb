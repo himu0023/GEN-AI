{
  "cells": [
    {
      "cell_type": "markdown",
      "metadata": {
        "id": "view-in-github",
        "colab_type": "text"
      },
      "source": [
        "<a href=\"https://colab.research.google.com/github/himu0023/GEN-AI/blob/main/Word2Vector.ipynb\" target=\"_parent\"><img src=\"https://colab.research.google.com/assets/colab-badge.svg\" alt=\"Open In Colab\"/></a>"
      ]
    },
    {
      "cell_type": "code",
      "execution_count": null,
      "metadata": {
        "colab": {
          "background_save": true
        },
        "id": "voZtVdNm2DlI"
      },
      "outputs": [],
      "source": [
        "pip install gensim"
      ]
    },
    {
      "cell_type": "code",
      "execution_count": null,
      "metadata": {
        "id": "U72noF0xxvzL"
      },
      "outputs": [],
      "source": [
        "import gensim\n",
        "from gensim.models import KeyedVectors, Word2Vec"
      ]
    },
    {
      "cell_type": "code",
      "execution_count": null,
      "metadata": {
        "id": "D7EVV1OJ1j_x"
      },
      "outputs": [],
      "source": [
        "model = KeyedVectors.load_word2vec_format('/content/drive/MyDrive/ColabNotebooks/GenAi/NLP/GoogleNews-vectors-negative300.bin', binary=True, limit=100000)"
      ]
    },
    {
      "cell_type": "code",
      "execution_count": null,
      "metadata": {
        "id": "ig_egfccQYzS"
      },
      "outputs": [],
      "source": [
        "model['man']"
      ]
    },
    {
      "cell_type": "code",
      "execution_count": null,
      "metadata": {
        "id": "kymXA7AaQb7h"
      },
      "outputs": [],
      "source": [
        "model['man'].shape"
      ]
    },
    {
      "cell_type": "code",
      "execution_count": null,
      "metadata": {
        "id": "uq72Jx1DQyCU"
      },
      "outputs": [],
      "source": [
        "model['glass']"
      ]
    },
    {
      "cell_type": "code",
      "execution_count": null,
      "metadata": {
        "id": "qK-hDLXOQ3bI"
      },
      "outputs": [],
      "source": [
        "model['glass'].shape"
      ]
    },
    {
      "cell_type": "code",
      "execution_count": null,
      "metadata": {
        "id": "b84z_y9TQ6sK"
      },
      "outputs": [],
      "source": [
        "model.most_similar('man')"
      ]
    },
    {
      "cell_type": "code",
      "execution_count": null,
      "metadata": {
        "id": "F1fP4_a3RJh5"
      },
      "outputs": [],
      "source": [
        " model.similarity('man', 'woman')"
      ]
    },
    {
      "cell_type": "code",
      "execution_count": null,
      "metadata": {
        "id": "tAfz9uNyTkPc"
      },
      "outputs": [],
      "source": [
        "model.similarity('man', 'car')"
      ]
    },
    {
      "cell_type": "code",
      "execution_count": null,
      "metadata": {
        "id": "ZOPWfUKsToMf"
      },
      "outputs": [],
      "source": [
        "model.similarity(\"Java\", \"man\")"
      ]
    },
    {
      "cell_type": "code",
      "execution_count": null,
      "metadata": {
        "id": "4UANFvLoTv-q"
      },
      "outputs": [],
      "source": [
        "model.doesnt_match([\"java\", \"python\", \"elephant\"])"
      ]
    },
    {
      "cell_type": "code",
      "execution_count": null,
      "metadata": {
        "id": "bMnpvTd-T14J"
      },
      "outputs": [],
      "source": [
        "vec = model['king'] - model['man'] + model['woman']\n",
        "model.most_similar([vec])"
      ]
    },
    {
      "cell_type": "code",
      "execution_count": null,
      "metadata": {
        "id": "Yv2Q-fc9UMIh"
      },
      "outputs": [],
      "source": [
        "model['king'].shape"
      ]
    },
    {
      "cell_type": "code",
      "execution_count": null,
      "metadata": {
        "id": "kCNcEhYrWoky"
      },
      "outputs": [],
      "source": [
        "model['king'][0:50]"
      ]
    },
    {
      "cell_type": "code",
      "execution_count": null,
      "metadata": {
        "id": "z0SrWeQQW9Eg"
      },
      "outputs": [],
      "source": [
        "import seaborn as sns\n",
        "import numpy as np\n",
        "import pandas as pd\n",
        "import matplotlib.pyplot as plt\n",
        "\n",
        "# king, queen, women, girl, boy, man, water\n",
        "words=['king', 'queen', 'women', 'girl', 'boy', 'man', 'water']\n",
        "embeddings = np.array([\n",
        "    model['queen'][0:50],\n",
        "    model['women'][0:50],\n",
        "    model['girl'][0:50],\n",
        "    model['king'][0:50],\n",
        "    model['boy'][0:50],\n",
        "    model['man'][0:50],\n",
        "    model['water'][0:50]\n",
        "])\n",
        "\n",
        "df = pd.DataFrame(embeddings, index=words)"
      ]
    },
    {
      "cell_type": "code",
      "execution_count": null,
      "metadata": {
        "id": "FYLlB3SaXz-A"
      },
      "outputs": [],
      "source": [
        "# Creating hash map\n",
        "plt.figure(figsize=(18, 16))\n",
        "heatmap = sns.heatmap(df, cmap='crest')\n",
        "plt.show()"
      ]
    },
    {
      "cell_type": "code",
      "execution_count": null,
      "metadata": {
        "id": "mdiKvPTuYK1M"
      },
      "outputs": [],
      "source": []
    }
  ],
  "metadata": {
    "colab": {
      "provenance": [],
      "mount_file_id": "1JHNnxBH7YBZStHKJou4aNJb22briwctV",
      "authorship_tag": "ABX9TyNEaDDGFAzkScSK4yThJwZZ",
      "include_colab_link": true
    },
    "kernelspec": {
      "display_name": "Python 3",
      "name": "python3"
    },
    "language_info": {
      "name": "python"
    }
  },
  "nbformat": 4,
  "nbformat_minor": 0
}