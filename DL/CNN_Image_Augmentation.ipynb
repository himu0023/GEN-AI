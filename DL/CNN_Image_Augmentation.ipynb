{
  "nbformat": 4,
  "nbformat_minor": 0,
  "metadata": {
    "colab": {
      "provenance": [],
      "authorship_tag": "ABX9TyNo5mzp7wa7IEn50RFSVOst"
    },
    "kernelspec": {
      "name": "python3",
      "display_name": "Python 3"
    },
    "language_info": {
      "name": "python"
    }
  },
  "cells": [
    {
      "cell_type": "code",
      "source": [
        "# !pip install tensorflow"
      ],
      "metadata": {
        "id": "yfJhPHhcI_B6"
      },
      "execution_count": null,
      "outputs": []
    },
    {
      "cell_type": "code",
      "execution_count": 1,
      "metadata": {
        "id": "wWeB0yT5s30W"
      },
      "outputs": [],
      "source": [
        "import tensorflow as tf\n",
        "from tensorflow import keras\n",
        "from keras.datasets import fashion_mnist\n",
        "from keras.models import Sequential\n",
        "from keras.layers import Dense, Flatten\n",
        "# Dropout Regularization: To get rid of overfitting problem\n",
        "from keras.layers import Conv2D, MaxPooling2D\n",
        "from keras import backend as K"
      ]
    },
    {
      "cell_type": "code",
      "source": [
        "# Numbers of classes - do not change unless the data changes\n",
        "num_classes = 10"
      ],
      "metadata": {
        "id": "vl17Fl6BJi6u"
      },
      "execution_count": 2,
      "outputs": []
    },
    {
      "cell_type": "code",
      "source": [
        "# size of batch and epochs of data\n",
        "batch_size = 64\n",
        "epochs = 24"
      ],
      "metadata": {
        "id": "mum_xi4dxlO-"
      },
      "execution_count": 3,
      "outputs": []
    },
    {
      "cell_type": "code",
      "source": [
        "# input image dimenssion\n",
        "img_rows, img_cols = 28, 28"
      ],
      "metadata": {
        "id": "JdIPQ5j4xqVM"
      },
      "execution_count": 4,
      "outputs": []
    },
    {
      "cell_type": "code",
      "source": [
        "# the data, shuffled and split between train and test set\n",
        "(X_train, y_train), (X_test, y_test) = fashion_mnist.load_data()"
      ],
      "metadata": {
        "colab": {
          "base_uri": "https://localhost:8080/"
        },
        "id": "KeqOkazGxwTi",
        "outputId": "b819df42-518b-49d1-905e-c37b162429ac"
      },
      "execution_count": 5,
      "outputs": [
        {
          "output_type": "stream",
          "name": "stdout",
          "text": [
            "Downloading data from https://storage.googleapis.com/tensorflow/tf-keras-datasets/train-labels-idx1-ubyte.gz\n",
            "\u001b[1m29515/29515\u001b[0m \u001b[32m━━━━━━━━━━━━━━━━━━━━\u001b[0m\u001b[37m\u001b[0m \u001b[1m0s\u001b[0m 0us/step\n",
            "Downloading data from https://storage.googleapis.com/tensorflow/tf-keras-datasets/train-images-idx3-ubyte.gz\n",
            "\u001b[1m26421880/26421880\u001b[0m \u001b[32m━━━━━━━━━━━━━━━━━━━━\u001b[0m\u001b[37m\u001b[0m \u001b[1m0s\u001b[0m 0us/step\n",
            "Downloading data from https://storage.googleapis.com/tensorflow/tf-keras-datasets/t10k-labels-idx1-ubyte.gz\n",
            "\u001b[1m5148/5148\u001b[0m \u001b[32m━━━━━━━━━━━━━━━━━━━━\u001b[0m\u001b[37m\u001b[0m \u001b[1m0s\u001b[0m 0us/step\n",
            "Downloading data from https://storage.googleapis.com/tensorflow/tf-keras-datasets/t10k-images-idx3-ubyte.gz\n",
            "\u001b[1m4422102/4422102\u001b[0m \u001b[32m━━━━━━━━━━━━━━━━━━━━\u001b[0m\u001b[37m\u001b[0m \u001b[1m0s\u001b[0m 0us/step\n"
          ]
        }
      ]
    },
    {
      "cell_type": "code",
      "source": [
        "X_train.shape"
      ],
      "metadata": {
        "colab": {
          "base_uri": "https://localhost:8080/"
        },
        "id": "f1AaoG4ZymUY",
        "outputId": "cdab5514-a9e1-4f55-fb2d-daa3dfb5897e"
      },
      "execution_count": 6,
      "outputs": [
        {
          "output_type": "execute_result",
          "data": {
            "text/plain": [
              "(60000, 28, 28)"
            ]
          },
          "metadata": {},
          "execution_count": 6
        }
      ]
    },
    {
      "cell_type": "code",
      "source": [
        "X_test.shape"
      ],
      "metadata": {
        "colab": {
          "base_uri": "https://localhost:8080/"
        },
        "id": "zRLXhVwlyqFs",
        "outputId": "168d7ee5-c991-44a5-de7a-d4531e6c4303"
      },
      "execution_count": 7,
      "outputs": [
        {
          "output_type": "execute_result",
          "data": {
            "text/plain": [
              "(10000, 28, 28)"
            ]
          },
          "metadata": {},
          "execution_count": 7
        }
      ]
    },
    {
      "cell_type": "code",
      "source": [
        "len(y_train)"
      ],
      "metadata": {
        "colab": {
          "base_uri": "https://localhost:8080/"
        },
        "id": "KW12WFJCysqC",
        "outputId": "ecbcc397-63fc-455b-d8f4-9c1dac5293bd"
      },
      "execution_count": 8,
      "outputs": [
        {
          "output_type": "execute_result",
          "data": {
            "text/plain": [
              "60000"
            ]
          },
          "metadata": {},
          "execution_count": 8
        }
      ]
    },
    {
      "cell_type": "code",
      "source": [
        "y_train"
      ],
      "metadata": {
        "colab": {
          "base_uri": "https://localhost:8080/"
        },
        "id": "ddF586O2yxSE",
        "outputId": "d2e8d3a6-a52c-4d42-f46b-b2bdccb959f5"
      },
      "execution_count": 9,
      "outputs": [
        {
          "output_type": "execute_result",
          "data": {
            "text/plain": [
              "array([9, 0, 0, ..., 3, 0, 5], dtype=uint8)"
            ]
          },
          "metadata": {},
          "execution_count": 9
        }
      ]
    },
    {
      "cell_type": "code",
      "source": [
        "X_train = X_train.reshape(X_train.shape[0], img_rows, img_cols, 1)\n",
        "X_test = X_test.reshape(X_test.shape[0], img_rows, img_cols, 1)\n",
        "input_shape = (img_rows, img_cols, 1)"
      ],
      "metadata": {
        "id": "2DxDui-FyzI3"
      },
      "execution_count": 10,
      "outputs": []
    },
    {
      "cell_type": "code",
      "source": [
        "input_shape"
      ],
      "metadata": {
        "colab": {
          "base_uri": "https://localhost:8080/"
        },
        "id": "315vS3Zkz4f1",
        "outputId": "45593c93-fa1d-4cf5-de67-de20804fe090"
      },
      "execution_count": 11,
      "outputs": [
        {
          "output_type": "execute_result",
          "data": {
            "text/plain": [
              "(28, 28, 1)"
            ]
          },
          "metadata": {},
          "execution_count": 11
        }
      ]
    },
    {
      "cell_type": "code",
      "source": [
        "X_train.shape"
      ],
      "metadata": {
        "colab": {
          "base_uri": "https://localhost:8080/"
        },
        "id": "dDAcXG_Uz6Vs",
        "outputId": "709223f5-53dc-4e32-f5cc-f9e8ce93e736"
      },
      "execution_count": 12,
      "outputs": [
        {
          "output_type": "execute_result",
          "data": {
            "text/plain": [
              "(60000, 28, 28, 1)"
            ]
          },
          "metadata": {},
          "execution_count": 12
        }
      ]
    },
    {
      "cell_type": "code",
      "source": [
        "X_train.dtype"
      ],
      "metadata": {
        "colab": {
          "base_uri": "https://localhost:8080/"
        },
        "id": "auT-ttMH0fXB",
        "outputId": "f38878c4-f332-49c9-c7a0-db5411f12971"
      },
      "execution_count": 14,
      "outputs": [
        {
          "output_type": "execute_result",
          "data": {
            "text/plain": [
              "dtype('uint8')"
            ]
          },
          "metadata": {},
          "execution_count": 14
        }
      ]
    },
    {
      "cell_type": "code",
      "source": [
        "# Type convert and scale the test and training data\n",
        "X_train = X_train.astype('float32')\n",
        "X_test = X_test.astype('float32')\n",
        "X_train /= 255.\n",
        "X_test /= 255.\n",
        "print(\"X_train shape: \", X_train.shape)\n",
        "print(\"X_test shape: \", X_test.shape)\n",
        "print(y_train[:3])"
      ],
      "metadata": {
        "colab": {
          "base_uri": "https://localhost:8080/"
        },
        "id": "OJ05jBc1z9Lz",
        "outputId": "fa31b4cb-90bd-4a42-b1fa-0513845dbf91"
      },
      "execution_count": 15,
      "outputs": [
        {
          "output_type": "stream",
          "name": "stdout",
          "text": [
            "X_train shape:  (60000, 28, 28, 1)\n",
            "X_test shape:  (10000, 28, 28, 1)\n",
            "[9 0 0]\n"
          ]
        }
      ]
    },
    {
      "cell_type": "code",
      "source": [
        "# Convert class vectors to binary matrices. One-hot encoding\n",
        "# 3 => 0 0 0 1 0 0 0 0 0 0 and 1=> 0 1 0 0 0 0 0 0 0 0\n",
        "y_train = keras.utils.to_categorical(y_train, num_classes)\n",
        "y_test = keras.utils.to_categorical(y_test, num_classes)\n",
        "print(y_train[0:2]) # verify one hot-encoding"
      ],
      "metadata": {
        "colab": {
          "base_uri": "https://localhost:8080/"
        },
        "id": "gdCZWD7E1WUe",
        "outputId": "e81549bc-3f39-483c-b66a-224473765f25"
      },
      "execution_count": 18,
      "outputs": [
        {
          "output_type": "stream",
          "name": "stdout",
          "text": [
            "[[[[0. 1. 0. ... 0. 0. 0.]\n",
            "   [1. 0. 0. ... 0. 0. 0.]\n",
            "   [1. 0. 0. ... 0. 0. 0.]\n",
            "   ...\n",
            "   [1. 0. 0. ... 0. 0. 0.]\n",
            "   [1. 0. 0. ... 0. 0. 0.]\n",
            "   [1. 0. 0. ... 0. 0. 0.]]\n",
            "\n",
            "  [[0. 1. 0. ... 0. 0. 0.]\n",
            "   [1. 0. 0. ... 0. 0. 0.]\n",
            "   [1. 0. 0. ... 0. 0. 0.]\n",
            "   ...\n",
            "   [1. 0. 0. ... 0. 0. 0.]\n",
            "   [1. 0. 0. ... 0. 0. 0.]\n",
            "   [1. 0. 0. ... 0. 0. 0.]]\n",
            "\n",
            "  [[0. 1. 0. ... 0. 0. 0.]\n",
            "   [1. 0. 0. ... 0. 0. 0.]\n",
            "   [1. 0. 0. ... 0. 0. 0.]\n",
            "   ...\n",
            "   [1. 0. 0. ... 0. 0. 0.]\n",
            "   [1. 0. 0. ... 0. 0. 0.]\n",
            "   [1. 0. 0. ... 0. 0. 0.]]\n",
            "\n",
            "  ...\n",
            "\n",
            "  [[0. 1. 0. ... 0. 0. 0.]\n",
            "   [1. 0. 0. ... 0. 0. 0.]\n",
            "   [1. 0. 0. ... 0. 0. 0.]\n",
            "   ...\n",
            "   [1. 0. 0. ... 0. 0. 0.]\n",
            "   [1. 0. 0. ... 0. 0. 0.]\n",
            "   [1. 0. 0. ... 0. 0. 0.]]\n",
            "\n",
            "  [[0. 1. 0. ... 0. 0. 0.]\n",
            "   [1. 0. 0. ... 0. 0. 0.]\n",
            "   [1. 0. 0. ... 0. 0. 0.]\n",
            "   ...\n",
            "   [1. 0. 0. ... 0. 0. 0.]\n",
            "   [1. 0. 0. ... 0. 0. 0.]\n",
            "   [1. 0. 0. ... 0. 0. 0.]]\n",
            "\n",
            "  [[1. 0. 0. ... 0. 0. 0.]\n",
            "   [0. 1. 0. ... 0. 0. 0.]\n",
            "   [1. 0. 0. ... 0. 0. 0.]\n",
            "   ...\n",
            "   [1. 0. 0. ... 0. 0. 0.]\n",
            "   [1. 0. 0. ... 0. 0. 0.]\n",
            "   [1. 0. 0. ... 0. 0. 0.]]]\n",
            "\n",
            "\n",
            " [[[1. 0. 0. ... 0. 0. 0.]\n",
            "   [0. 1. 0. ... 0. 0. 0.]\n",
            "   [1. 0. 0. ... 0. 0. 0.]\n",
            "   ...\n",
            "   [1. 0. 0. ... 0. 0. 0.]\n",
            "   [1. 0. 0. ... 0. 0. 0.]\n",
            "   [1. 0. 0. ... 0. 0. 0.]]\n",
            "\n",
            "  [[0. 1. 0. ... 0. 0. 0.]\n",
            "   [1. 0. 0. ... 0. 0. 0.]\n",
            "   [1. 0. 0. ... 0. 0. 0.]\n",
            "   ...\n",
            "   [1. 0. 0. ... 0. 0. 0.]\n",
            "   [1. 0. 0. ... 0. 0. 0.]\n",
            "   [1. 0. 0. ... 0. 0. 0.]]\n",
            "\n",
            "  [[0. 1. 0. ... 0. 0. 0.]\n",
            "   [1. 0. 0. ... 0. 0. 0.]\n",
            "   [1. 0. 0. ... 0. 0. 0.]\n",
            "   ...\n",
            "   [1. 0. 0. ... 0. 0. 0.]\n",
            "   [1. 0. 0. ... 0. 0. 0.]\n",
            "   [1. 0. 0. ... 0. 0. 0.]]\n",
            "\n",
            "  ...\n",
            "\n",
            "  [[0. 1. 0. ... 0. 0. 0.]\n",
            "   [1. 0. 0. ... 0. 0. 0.]\n",
            "   [1. 0. 0. ... 0. 0. 0.]\n",
            "   ...\n",
            "   [1. 0. 0. ... 0. 0. 0.]\n",
            "   [1. 0. 0. ... 0. 0. 0.]\n",
            "   [1. 0. 0. ... 0. 0. 0.]]\n",
            "\n",
            "  [[0. 1. 0. ... 0. 0. 0.]\n",
            "   [1. 0. 0. ... 0. 0. 0.]\n",
            "   [1. 0. 0. ... 0. 0. 0.]\n",
            "   ...\n",
            "   [1. 0. 0. ... 0. 0. 0.]\n",
            "   [1. 0. 0. ... 0. 0. 0.]\n",
            "   [1. 0. 0. ... 0. 0. 0.]]\n",
            "\n",
            "  [[0. 1. 0. ... 0. 0. 0.]\n",
            "   [1. 0. 0. ... 0. 0. 0.]\n",
            "   [1. 0. 0. ... 0. 0. 0.]\n",
            "   ...\n",
            "   [1. 0. 0. ... 0. 0. 0.]\n",
            "   [1. 0. 0. ... 0. 0. 0.]\n",
            "   [1. 0. 0. ... 0. 0. 0.]]]]\n"
          ]
        }
      ]
    },
    {
      "cell_type": "markdown",
      "source": [
        "## CNN Model"
      ],
      "metadata": {
        "id": "_H3bDNih2gqo"
      }
    },
    {
      "cell_type": "code",
      "source": [
        "# Define the model\n",
        "model = Sequential()"
      ],
      "metadata": {
        "id": "bfC14gyB3Eos"
      },
      "execution_count": 19,
      "outputs": []
    },
    {
      "cell_type": "code",
      "source": [
        "num_classes"
      ],
      "metadata": {
        "colab": {
          "base_uri": "https://localhost:8080/"
        },
        "id": "-2EhmUHB3mrS",
        "outputId": "3f2cf045-8f00-45e9-be17-bfbabe29904b"
      },
      "execution_count": 20,
      "outputs": [
        {
          "output_type": "execute_result",
          "data": {
            "text/plain": [
              "10"
            ]
          },
          "metadata": {},
          "execution_count": 20
        }
      ]
    },
    {
      "cell_type": "code",
      "source": [],
      "metadata": {
        "id": "y_2YwajO3oA5"
      },
      "execution_count": null,
      "outputs": []
    }
  ]
}